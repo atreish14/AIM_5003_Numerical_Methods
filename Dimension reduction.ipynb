{
 "cells": [
  {
   "cell_type": "code",
   "execution_count": 5,
   "metadata": {},
   "outputs": [],
   "source": [
    "import numpy as np \n",
    "from numpy import array\n",
    "from numpy import diag\n",
    "from numpy import dot\n",
    "from scipy.linalg import svd"
   ]
  },
  {
   "cell_type": "code",
   "execution_count": 24,
   "metadata": {
    "scrolled": true
   },
   "outputs": [
    {
     "name": "stdout",
     "output_type": "stream",
     "text": [
      "[[ 3  2 -2 -3]\n",
      " [ 2  4 -1 -5]]\n",
      "[8.28088129 1.85121718]\n",
      "[[-0.58864133  0.80839433]\n",
      " [-0.80839433 -0.58864133]]\n",
      "[[8.28088129 0.         0.         0.        ]\n",
      " [0.         1.85121718 0.         0.        ]]\n",
      "[[-0.40849669 -0.53265586  0.23979054  0.70136202]\n",
      " [ 0.67409721 -0.39853598 -0.5553899   0.27982867]\n",
      " [ 0.57429598 -0.18920963  0.79244044 -0.0801374 ]\n",
      " [ 0.22115048  0.72225101  0.0779789   0.65066522]]\n"
     ]
    }
   ],
   "source": [
    "# SVD\n",
    "# define a matrix\n",
    "A = array([[3,2,-2,-3], [2,4,-1,-5]])\n",
    "m,n=np.shape(A)\n",
    "print(A)\n",
    "# Singular-value decomposition\n",
    "U, s, VT = svd(A)\n",
    "s=np.array(s)\n",
    "print(s)\n",
    "print(U)\n",
    "S = np.zeros((m, n))\n",
    "S[:2, :2] = np.diag(s)\n",
    "print(S)\n",
    "print(VT)"
   ]
  },
  {
   "cell_type": "code",
   "execution_count": 25,
   "metadata": {},
   "outputs": [],
   "source": [
    "def s_cut(a,p):\n",
    "    s1=np.zeros(len(a))\n",
    "    for j in range(p):\n",
    "        s1[j]=a[j]\n",
    "    return s1"
   ]
  },
  {
   "cell_type": "code",
   "execution_count": 29,
   "metadata": {},
   "outputs": [],
   "source": [
    "s_cut=s_cut(s,1)"
   ]
  },
  {
   "cell_type": "code",
   "execution_count": 30,
   "metadata": {},
   "outputs": [
    {
     "name": "stdout",
     "output_type": "stream",
     "text": [
      "[[8.28088129 0.         0.         0.        ]\n",
      " [0.         0.         0.         0.        ]]\n",
      "[[ 1.99120445  2.59641446 -1.16885153 -3.41876737]\n",
      " [ 2.73456571  3.56571418 -1.60521001 -4.69506988]]\n"
     ]
    }
   ],
   "source": [
    "S_cut = np.zeros((m, n))\n",
    "S_cut[:2, :2] = np.diag(s_cut)\n",
    "print(S_cut)\n",
    "Ap = U.dot(S_cut.dot(VT))\n",
    "print(Ap)"
   ]
  },
  {
   "cell_type": "code",
   "execution_count": null,
   "metadata": {},
   "outputs": [],
   "source": []
  },
  {
   "cell_type": "code",
   "execution_count": null,
   "metadata": {},
   "outputs": [],
   "source": []
  }
 ],
 "metadata": {
  "kernelspec": {
   "display_name": "Python 3",
   "language": "python",
   "name": "python3"
  },
  "language_info": {
   "codemirror_mode": {
    "name": "ipython",
    "version": 3
   },
   "file_extension": ".py",
   "mimetype": "text/x-python",
   "name": "python",
   "nbconvert_exporter": "python",
   "pygments_lexer": "ipython3",
   "version": "3.8.5"
  }
 },
 "nbformat": 4,
 "nbformat_minor": 4
}
