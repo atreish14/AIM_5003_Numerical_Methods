{
 "cells": [
  {
   "cell_type": "code",
   "execution_count": 44,
   "metadata": {},
   "outputs": [],
   "source": [
    "import numpy as np\n",
    "import math\n",
    "import matplotlib.pyplot as plt"
   ]
  },
  {
   "cell_type": "code",
   "execution_count": 45,
   "metadata": {},
   "outputs": [],
   "source": [
    "def bisection(f, a, b, TOL):\n",
    "    if np.sign(f(a))*np.sign(f(b)) > 0:\n",
    "        print('f(a)f(b)<0 not satisfied') \n",
    "        return # stop execution\n",
    "    n=1\n",
    "    fa= f(a)\n",
    "    fb= f(b)            \n",
    "    while np.abs(a-b)>TOL:\n",
    "        c = (a+b)/2\n",
    "        fc=f(c)   \n",
    "        n=n+1\n",
    "        if np.isclose(f(c), 0):\n",
    "            print('Approximate  root', c, 'has been obtained in', n, 'steps')\n",
    "            return\n",
    "        if np.sign(fc)*np.sign(fa)<0:\n",
    "            b = c\n",
    "            fb=fc\n",
    "        else:\n",
    "            a = c\n",
    "            fa= fc\n",
    "    c=(a+b)/2\n",
    "    print('The final interval [', a, b, '] contains a root')\n",
    "    print('Approximate  root', c, 'has been obtained in', n, 'steps')"
   ]
  },
  {
   "cell_type": "code",
   "execution_count": 46,
   "metadata": {},
   "outputs": [],
   "source": [
    "def f(x):\n",
    "    return  x**3+x-1"
   ]
  },
  {
   "cell_type": "code",
   "execution_count": 47,
   "metadata": {},
   "outputs": [
    {
     "name": "stdout",
     "output_type": "stream",
     "text": [
      "The final interval [ 0.68231201171875 0.682342529296875 ] contains a root\n",
      "Approximate  root 0.6823272705078125 has been obtained in 16 steps\n"
     ]
    }
   ],
   "source": [
    "bisection(f,0,1,0.5e-4)"
   ]
  },
  {
   "cell_type": "code",
   "execution_count": 48,
   "metadata": {},
   "outputs": [],
   "source": [
    "def g(x):\n",
    "    return  np.exp(x-2)+x**3-3"
   ]
  },
  {
   "cell_type": "code",
   "execution_count": 49,
   "metadata": {},
   "outputs": [
    {
     "data": {
      "image/png": "[encoded data removed]",
      "text/plain": [
       "<Figure size 432x288 with 1 Axes>"
      ]
     },
     "metadata": {},
     "output_type": "display_data"
    }
   ],
   "source": [
    "plt.style.use('seaborn-whitegrid')\n",
    "ax = plt.axes()\n",
    "# 100 linearly spaced numbers\n",
    "x = np.linspace(-5,5,100)\n",
    "\n",
    "# the function, which is y = x^2 here\n",
    "y = g(x)\n",
    "\n",
    "# plot the function\n",
    "plt.plot(x,y, 'b')\n",
    "\n",
    "# show the plot\n",
    "plt.show()"
   ]
  },
  {
   "cell_type": "code",
   "execution_count": 54,
   "metadata": {},
   "outputs": [],
   "source": [
    "def h(x):\n",
    "    return x**3-2*x**2+(4/3)*x-8/27"
   ]
  },
  {
   "cell_type": "code",
   "execution_count": 57,
   "metadata": {},
   "outputs": [
    {
     "name": "stdout",
     "output_type": "stream",
     "text": [
      "Approximate  root 0.66796875 has been obtained in 9 steps\n"
     ]
    }
   ],
   "source": [
    "bisection(h,0,1,0.5e-52)"
   ]
  },
  {
   "cell_type": "code",
   "execution_count": 69,
   "metadata": {},
   "outputs": [],
   "source": [
    "w=lambda x: x**20 - 210*x**19 + 20615*x**18 - 1256850*x**17 + 53327946*x**16 - 1672280820*x**15 + 40171771630*x**14 - 756111184500*x**13 + 113102769953818*x**12 - 1355851828995308*x**11 + 1307535010540395*x**10 - 10142299865511450*x**9 + 630308120992948968*x**8 - 31133364316139064088*x**7+ 1206647803780373360*x**6 - 3599979517947607200*x**5 + 8037811822645051776*x**4 - 12870931245150988800*x**3+ 13803759753640704000*x**2 - 8752948036761600000*x + 2432902008176640000"
   ]
  },
  {
   "cell_type": "code",
   "execution_count": 70,
   "metadata": {},
   "outputs": [
    {
     "name": "stdout",
     "output_type": "stream",
     "text": [
      "f(a)f(b)<0 not satisfied\n"
     ]
    }
   ],
   "source": [
    "bisection(w,15.9,16.1,0.5e-6)"
   ]
  },
  {
   "cell_type": "code",
   "execution_count": null,
   "metadata": {},
   "outputs": [],
   "source": []
  }
 ],
 "metadata": {
  "kernelspec": {
   "display_name": "Python 3",
   "language": "python",
   "name": "python3"
  },
  "language_info": {
   "codemirror_mode": {
    "name": "ipython",
    "version": 3
   },
   "file_extension": ".py",
   "mimetype": "text/x-python",
   "name": "python",
   "nbconvert_exporter": "python",
   "pygments_lexer": "ipython3",
   "version": "3.7.4"
  }
 },
 "nbformat": 4,
 "nbformat_minor": 4
}
