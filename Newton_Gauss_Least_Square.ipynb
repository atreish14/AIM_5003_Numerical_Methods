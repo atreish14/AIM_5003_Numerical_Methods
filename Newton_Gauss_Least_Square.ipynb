{
 "cells": [
  {
   "cell_type": "code",
   "execution_count": 8,
   "metadata": {},
   "outputs": [],
   "source": [
    "import numpy as np"
   ]
  },
  {
   "cell_type": "code",
   "execution_count": 13,
   "metadata": {},
   "outputs": [],
   "source": [
    "# Solve nonlinear system r=0 by Newton's method.\n",
    "# Input: function r and Jacobian Dr both must be functions of x, initial guess x0, \n",
    "#        maximal number of steps N, error eps\n",
    "# Output: solution x and number of steps\n",
    "#\n",
    "# At input, x holds the guess x0 \n",
    "# The iteration continues until ||Grad(r)|| < eps or up to N steps\n",
    "def Newton_system(r, Dr, x0, N, eps):\n",
    "    x=x0\n",
    "    r_value=r(x0)\n",
    "    Gradr_norm = np.linalg.norm(np.dot(r(x0),Dr(x0)),ord=2)\n",
    "    steps = 0\n",
    "    while abs(Gradr_norm) > eps and steps < N: \n",
    "        v=np.linalg.lstsq(Dr(x), r_value,rcond=None)[0]\n",
    "        #print('v=',v)\n",
    "        x = x-v\n",
    "        #print('x=',x)\n",
    "        r_value = r(x)\n",
    "        Dr_value = Dr(x) \n",
    "        Gradr_norm = np.linalg.norm(np.dot(r_value,Dr_value),ord=2)\n",
    "        #print('Gradr_norm =',Gradr_norm)\n",
    "        steps = steps + 1\n",
    "    # Either a solution is found, or too many iterations\n",
    "    if abs(Gradr_norm) > eps:\n",
    "        steps = -1\n",
    "    return x, steps"
   ]
  },
  {
   "cell_type": "code",
   "execution_count": 14,
   "metadata": {},
   "outputs": [],
   "source": [
    "def test_Newton_system1():\n",
    "    from numpy import cos, sin, pi, exp\n",
    "\n",
    "    def F(x):\n",
    "        return np.array(\n",
    "            [x[0]**2 - x[1] + x[0]*np.cos(pi*x[0]),\n",
    "             x[0]*x[1] + np.exp(-x[1]) - x[0]**(-1)])\n",
    "\n",
    "    def DF(x):\n",
    "        return np.array(\n",
    "            [[2*x[0] + np.cos(pi*x[0]) - np.pi*x[0]*np.sin(np.pi*x[0]), -1],\n",
    "             [x[1] + x[0]**(-2), x[0] - np.exp(-x[1])]])\n",
    "\n",
    "    tol = 1e-4\n",
    "    x, n = Newton_system(F, DF, x0=np.array([1.5, 1.5]), N=100, eps=0.000001)\n",
    "    print ('Number of steps=', n, 'Solution=',x)"
   ]
  },
  {
   "cell_type": "code",
   "execution_count": 15,
   "metadata": {},
   "outputs": [
    {
     "name": "stdout",
     "output_type": "stream",
     "text": [
      "Number of steps= 6 Solution= [1.00000000e+00 8.61621589e-10]\n"
     ]
    }
   ],
   "source": [
    "test_Newton_system1()"
   ]
  },
  {
   "cell_type": "code",
   "execution_count": 16,
   "metadata": {},
   "outputs": [],
   "source": [
    "# Find intersection of three circles \n",
    "x1=-1.; y1=0.;  R1=1.;  x2=1.;  y2=0.5; R2=0.5;  x3=1.0; y3=-0.5; R3=0.5;\n",
    "\n",
    "def test_Newton_system2():\n",
    "\n",
    "    def G(X):\n",
    "        return np.array(\n",
    "            [((X[0] - x1)**2 + (X[1] - y1)**2)**0.5 - R1,\n",
    "             ((X[0] - x2)**2 + (X[1] - y2)**2)**0.5 - R2,\n",
    "             ((X[0] - x3)**2 + (X[1] - y3)**2)**0.5 - R3])\n",
    "            \n",
    "    def DG(X):\n",
    "        S1=((X[0] - x1)**2 + (X[1] - y1)**2)**0.5; \n",
    "        S2=((X[0] - x2)**2 + (X[1] - y2)**2)**0.5; \n",
    "        S3=((X[0] - x3)**2 + (X[1] - y3)**2)**0.5; \n",
    "        return np.array([\n",
    "            [(X[0]-x1)/S1, (X[1]-y1)/S1],\n",
    "            [(X[0]-x2)/S2, (X[1]-y2)/S2],\n",
    "            [(X[0]-x3)/S3, (X[1]-y3)/S3]])\n",
    "    \n",
    "    tol = 1e-4\n",
    "    x, n = Newton_system(G, DG, x0=np.array([0.0, 0.0]), N=100, eps=0.000001)\n",
    "    print ('Number of steps=', n, 'Solution=',x)"
   ]
  },
  {
   "cell_type": "code",
   "execution_count": 7,
   "metadata": {},
   "outputs": [
    {
     "name": "stdout",
     "output_type": "stream",
     "text": [
      "Number of steps= 7 Solution= [4.12891342e-01 2.76488693e-16]\n"
     ]
    }
   ],
   "source": [
    "test_Newton_system2()"
   ]
  },
  {
   "cell_type": "code",
   "execution_count": null,
   "metadata": {},
   "outputs": [],
   "source": []
  }
 ],
 "metadata": {
  "kernelspec": {
   "display_name": "Python 3",
   "language": "python",
   "name": "python3"
  },
  "language_info": {
   "codemirror_mode": {
    "name": "ipython",
    "version": 3
   },
   "file_extension": ".py",
   "mimetype": "text/x-python",
   "name": "python",
   "nbconvert_exporter": "python",
   "pygments_lexer": "ipython3",
   "version": "3.8.5"
  }
 },
 "nbformat": 4,
 "nbformat_minor": 4
}
