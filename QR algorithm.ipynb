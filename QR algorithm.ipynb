{
 "cells": [
  {
   "cell_type": "code",
   "execution_count": 187,
   "metadata": {},
   "outputs": [],
   "source": [
    "import numpy as np "
   ]
  },
  {
   "cell_type": "code",
   "execution_count": 188,
   "metadata": {},
   "outputs": [],
   "source": [
    "# QR algorithm for eigenvalues and eigenvectors of symmetric matrix \n",
    "# Input: A=matrix, k=number of steps\n",
    "# Output: Evec=orthogonal eigenvectors and Eval=eigenvalues\n",
    "def QRsym(A,k):\n",
    "    if np.any(A.T!=A):\n",
    "        print('Not a symmetric matrix')\n",
    "        return None\n",
    "    else:\n",
    "        [m,n]=np.shape(A)\n",
    "        Q=np.eye(m)\n",
    "        Qbar=Q\n",
    "        for j in range(k):\n",
    "            Qbar,R=np.linalg.qr(np.dot(A,Qbar))\n",
    "        Evec=Qbar;Eval=np.diag(R) \n",
    "    return Evec, Eval"
   ]
  },
  {
   "cell_type": "code",
   "execution_count": 189,
   "metadata": {},
   "outputs": [
    {
     "name": "stdout",
     "output_type": "stream",
     "text": [
      "[[3 2 4]\n",
      " [2 0 2]\n",
      " [4 2 3]]\n"
     ]
    }
   ],
   "source": [
    "A=np.array([[3,2,4],[2,0,2],[4,2,3]])\n",
    "print(A)"
   ]
  },
  {
   "cell_type": "code",
   "execution_count": 190,
   "metadata": {},
   "outputs": [
    {
     "data": {
      "text/plain": [
       "(array([[-6.66666667e-01,  4.47213595e-01, -5.96284793e-01],\n",
       "        [-3.33333333e-01, -8.94427191e-01, -2.98142397e-01],\n",
       "        [-6.66666666e-01, -4.16499563e-10,  7.45355993e-01]]),\n",
       " array([ 8., -1., -1.]))"
      ]
     },
     "execution_count": 190,
     "metadata": {},
     "output_type": "execute_result"
    }
   ],
   "source": [
    "QRsym(A,10)"
   ]
  },
  {
   "cell_type": "code",
   "execution_count": 191,
   "metadata": {},
   "outputs": [
    {
     "data": {
      "text/plain": [
       "(array([-1.,  8., -1.]),\n",
       " array([[-0.74535599,  0.66666667, -0.20756326],\n",
       "        [ 0.2981424 ,  0.33333333, -0.77602137],\n",
       "        [ 0.59628479,  0.66666667,  0.59557394]]))"
      ]
     },
     "execution_count": 191,
     "metadata": {},
     "output_type": "execute_result"
    }
   ],
   "source": [
    "np.linalg.eig(A)"
   ]
  },
  {
   "cell_type": "code",
   "execution_count": 192,
   "metadata": {},
   "outputs": [
    {
     "name": "stdout",
     "output_type": "stream",
     "text": [
      "A1= [[0 1]\n",
      " [1 0]]\n",
      "[[ 1.  0.]\n",
      " [-0.  1.]] [-1. -1.]\n",
      "(array([ 1., -1.]), array([[ 0.70710678, -0.70710678],\n",
      "       [ 0.70710678,  0.70710678]]))\n"
     ]
    }
   ],
   "source": [
    "#Failure of convergence\n",
    "A1=np.array([[0,1],[1,0]])\n",
    "print(\"A1=\",A1)\n",
    "Evec, Eval=QRsym(A1,10)\n",
    "print(Evec,Eval)\n",
    "print(np.linalg.eig(A1))"
   ]
  },
  {
   "cell_type": "code",
   "execution_count": 193,
   "metadata": {},
   "outputs": [],
   "source": [
    "# Unshifted QR algorithm for eigenvalues and eigenvectors of symmetric matrix \n",
    "# Input: A=matrix, k=number of steps\n",
    "# Output: Evec=orthogonal eigenvectors and Eval=eigenvalues\n",
    "def QRunshifted(A,k):\n",
    "    if np.any(A.T!=A):\n",
    "        print('Not a symmetric matrix')\n",
    "        return None\n",
    "    else:\n",
    "        [m,n]=np.shape(A)\n",
    "        Q=np.eye(m)\n",
    "        Qbar=Q;R=A\n",
    "        for j in range(k):\n",
    "            Q,R=np.linalg.qr(np.dot(R,Q))\n",
    "            Qbar=np.dot(Qbar,Q)\n",
    "        RQ=np.dot(R,Q)\n",
    "        Eval=np.diag(RQ) \n",
    "    return Eval"
   ]
  },
  {
   "cell_type": "code",
   "execution_count": 186,
   "metadata": {},
   "outputs": [
    {
     "data": {
      "text/plain": [
       "array([ 8., -1., -1.])"
      ]
     },
     "execution_count": 186,
     "metadata": {},
     "output_type": "execute_result"
    }
   ],
   "source": [
    "QRunshifted(A,10)"
   ]
  },
  {
   "cell_type": "code",
   "execution_count": null,
   "metadata": {},
   "outputs": [],
   "source": []
  },
  {
   "cell_type": "code",
   "execution_count": null,
   "metadata": {},
   "outputs": [],
   "source": []
  }
 ],
 "metadata": {
  "kernelspec": {
   "display_name": "Python 3",
   "language": "python",
   "name": "python3"
  },
  "language_info": {
   "codemirror_mode": {
    "name": "ipython",
    "version": 3
   },
   "file_extension": ".py",
   "mimetype": "text/x-python",
   "name": "python",
   "nbconvert_exporter": "python",
   "pygments_lexer": "ipython3",
   "version": "3.7.4"
  }
 },
 "nbformat": 4,
 "nbformat_minor": 4
}
