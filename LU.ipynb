{
 "cells": [
  {
   "cell_type": "code",
   "execution_count": 7,
   "metadata": {},
   "outputs": [],
   "source": [
    "import numpy as np"
   ]
  },
  {
   "cell_type": "code",
   "execution_count": 8,
   "metadata": {},
   "outputs": [],
   "source": [
    "#Function to compute the LU factorization of a matrix\n",
    "#Input:  matrix a\n",
    "#        eps parameter for zero pivot rule\n",
    "#Output: [L\\U] decomposition of a contains [U] in the upper triangle and \n",
    "#        the nondiagonal terms of [L] in the lower triangle\n",
    "def LUdecomp(a):\n",
    "    eps=1.e-6\n",
    "    n=len(a)\n",
    "    L=np.zeros((n,n))\n",
    "    U=np.zeros((n,n))\n",
    "    for k in range(0,n-1):\n",
    "        for i in range(k+1,n):\n",
    "            if np.abs(a[k,k])<eps:\n",
    "                print('Zero pivot')\n",
    "                return None \n",
    "            if a[i,k] != 0.0:\n",
    "                mult = a[i,k]/a[k,k]\n",
    "                a[i,k:n] = a[i,k:n] - mult*a[k,k:n]\n",
    "                a[i,k] = mult\n",
    "                L[i,k] = mult\n",
    "    U= a-L \n",
    "    for k in range(n):\n",
    "        L[k,k]=1\n",
    "    return a, L, U"
   ]
  },
  {
   "cell_type": "code",
   "execution_count": 9,
   "metadata": {},
   "outputs": [],
   "source": [
    "#Solves ax=[L\\U] x = b, where [a] = [L\\U] is the matrix returned from LUdecomp.\n",
    "def LUsolve(a,b):\n",
    "    n = len(a)\n",
    "    x=np.zeros(n)\n",
    "    y=np.zeros(n)\n",
    "    y[0] = b[0]\n",
    "    for k in range(1,n):\n",
    "        y[k] = b[k] - np.dot(a[k,0:k],y[0:k])\n",
    "    for k in range(n-1,-1,-1):\n",
    "        y[k] = y[k] - np.dot(a[k,k+1:n],x[k+1:n])\n",
    "        x[k]=y[k]/a[k,k]\n",
    "    return x"
   ]
  },
  {
   "cell_type": "code",
   "execution_count": 10,
   "metadata": {},
   "outputs": [
    {
     "name": "stdout",
     "output_type": "stream",
     "text": [
      "A= [[1 2 1]\n",
      " [3 2 4]\n",
      " [4 4 3]]\n",
      "L= [[1. 0. 0.]\n",
      " [3. 1. 0.]\n",
      " [4. 1. 1.]]\n",
      "U= [[ 1.  2.  1.]\n",
      " [ 0. -4.  1.]\n",
      " [ 0.  0. -2.]]\n",
      "[L/U]= [[ 1  2  1]\n",
      " [ 3 -4  1]\n",
      " [ 4  1 -2]]\n",
      "L*U= [[1. 2. 1.]\n",
      " [3. 2. 4.]\n",
      " [4. 4. 3.]]\n"
     ]
    }
   ],
   "source": [
    "A=np.array([[1,2,1],[3,2,4],[4,4,3]])\n",
    "b=np.array([5,17,26]).T\n",
    "print('A=',A)\n",
    "(Aprime,L,U)=LUdecomp(A)\n",
    "print('L=',L)\n",
    "print('U=',U)\n",
    "print('[L/U]=',Aprime)\n",
    "P=np.matmul(L, U)\n",
    "print('L*U=',P)"
   ]
  },
  {
   "cell_type": "code",
   "execution_count": 11,
   "metadata": {},
   "outputs": [
    {
     "data": {
      "text/plain": [
       "array([ 9., -1., -2.])"
      ]
     },
     "execution_count": 11,
     "metadata": {},
     "output_type": "execute_result"
    }
   ],
   "source": [
    "LUsolve(Aprime,b)"
   ]
  },
  {
   "cell_type": "code",
   "execution_count": 12,
   "metadata": {},
   "outputs": [
    {
     "name": "stdout",
     "output_type": "stream",
     "text": [
      "[[1 2 3]\n",
      " [2 4 5]\n",
      " [1 3 4]]\n",
      "Zero pivot\n"
     ]
    },
    {
     "ename": "TypeError",
     "evalue": "cannot unpack non-iterable NoneType object",
     "output_type": "error",
     "traceback": [
      "\u001b[1;31m---------------------------------------------------------------------------\u001b[0m",
      "\u001b[1;31mTypeError\u001b[0m                                 Traceback (most recent call last)",
      "\u001b[1;32m<ipython-input-12-2d93ef00d4f1>\u001b[0m in \u001b[0;36m<module>\u001b[1;34m\u001b[0m\n\u001b[0;32m      1\u001b[0m \u001b[0mA1\u001b[0m\u001b[1;33m=\u001b[0m\u001b[0mnp\u001b[0m\u001b[1;33m.\u001b[0m\u001b[0marray\u001b[0m\u001b[1;33m(\u001b[0m\u001b[1;33m[\u001b[0m\u001b[1;33m[\u001b[0m\u001b[1;36m1\u001b[0m\u001b[1;33m,\u001b[0m\u001b[1;36m2\u001b[0m\u001b[1;33m,\u001b[0m\u001b[1;36m3\u001b[0m\u001b[1;33m]\u001b[0m\u001b[1;33m,\u001b[0m\u001b[1;33m[\u001b[0m\u001b[1;36m2\u001b[0m\u001b[1;33m,\u001b[0m\u001b[1;36m4\u001b[0m\u001b[1;33m,\u001b[0m\u001b[1;36m5\u001b[0m\u001b[1;33m]\u001b[0m\u001b[1;33m,\u001b[0m\u001b[1;33m[\u001b[0m\u001b[1;36m1\u001b[0m\u001b[1;33m,\u001b[0m\u001b[1;36m3\u001b[0m\u001b[1;33m,\u001b[0m\u001b[1;36m4\u001b[0m\u001b[1;33m]\u001b[0m\u001b[1;33m]\u001b[0m\u001b[1;33m)\u001b[0m\u001b[1;33m\u001b[0m\u001b[1;33m\u001b[0m\u001b[0m\n\u001b[0;32m      2\u001b[0m \u001b[0mprint\u001b[0m\u001b[1;33m(\u001b[0m\u001b[0mA1\u001b[0m\u001b[1;33m)\u001b[0m\u001b[1;33m\u001b[0m\u001b[1;33m\u001b[0m\u001b[0m\n\u001b[1;32m----> 3\u001b[1;33m \u001b[1;33m(\u001b[0m\u001b[0mA1prime\u001b[0m\u001b[1;33m,\u001b[0m\u001b[0mL1\u001b[0m\u001b[1;33m,\u001b[0m\u001b[0mU1\u001b[0m\u001b[1;33m)\u001b[0m\u001b[1;33m=\u001b[0m\u001b[0mLUdecomp\u001b[0m\u001b[1;33m(\u001b[0m\u001b[0mA1\u001b[0m\u001b[1;33m)\u001b[0m\u001b[1;33m\u001b[0m\u001b[1;33m\u001b[0m\u001b[0m\n\u001b[0m\u001b[0;32m      4\u001b[0m \u001b[0mprint\u001b[0m\u001b[1;33m(\u001b[0m\u001b[0mL1\u001b[0m\u001b[1;33m)\u001b[0m\u001b[1;33m\u001b[0m\u001b[1;33m\u001b[0m\u001b[0m\n\u001b[0;32m      5\u001b[0m \u001b[0mprint\u001b[0m\u001b[1;33m(\u001b[0m\u001b[0mU1\u001b[0m\u001b[1;33m)\u001b[0m\u001b[1;33m\u001b[0m\u001b[1;33m\u001b[0m\u001b[0m\n",
      "\u001b[1;31mTypeError\u001b[0m: cannot unpack non-iterable NoneType object"
     ]
    }
   ],
   "source": [
    "A1=np.array([[1,2,3],[2,4,5],[1,3,4]])\n",
    "print(A1)\n",
    "(A1prime,L1,U1)=LUdecomp(A1)\n",
    "print(L1)\n",
    "print(U1)\n",
    "print(np.matmul(L1,U1))"
   ]
  },
  {
   "cell_type": "code",
   "execution_count": null,
   "metadata": {},
   "outputs": [],
   "source": []
  },
  {
   "cell_type": "code",
   "execution_count": null,
   "metadata": {},
   "outputs": [],
   "source": []
  },
  {
   "cell_type": "code",
   "execution_count": null,
   "metadata": {},
   "outputs": [],
   "source": []
  },
  {
   "cell_type": "code",
   "execution_count": null,
   "metadata": {},
   "outputs": [],
   "source": []
  }
 ],
 "metadata": {
  "kernelspec": {
   "display_name": "Python 3",
   "language": "python",
   "name": "python3"
  },
  "language_info": {
   "codemirror_mode": {
    "name": "ipython",
    "version": 3
   },
   "file_extension": ".py",
   "mimetype": "text/x-python",
   "name": "python",
   "nbconvert_exporter": "python",
   "pygments_lexer": "ipython3",
   "version": "3.7.4"
  }
 },
 "nbformat": 4,
 "nbformat_minor": 4
}
