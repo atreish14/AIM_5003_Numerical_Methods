{
 "cells": [
  {
   "cell_type": "code",
   "execution_count": 21,
   "metadata": {},
   "outputs": [],
   "source": [
    "import numpy as np"
   ]
  },
  {
   "cell_type": "code",
   "execution_count": 22,
   "metadata": {},
   "outputs": [],
   "source": [
    "#Midpoint rule\n",
    "def mr(f,x0,x1,h):\n",
    "    return h*f(0.5*(x0+x1))"
   ]
  },
  {
   "cell_type": "code",
   "execution_count": 23,
   "metadata": {},
   "outputs": [],
   "source": [
    "#Composite midpoint rule \n",
    "def cmr(f,a,b,m):\n",
    "    h=(b-a)/m\n",
    "    sum=0\n",
    "    x0=a\n",
    "    for i in range(m):\n",
    "        x1=x0+h\n",
    "        sum=sum+mr(f,x0,x1,h)\n",
    "        x0=x1\n",
    "    return sum"
   ]
  },
  {
   "cell_type": "code",
   "execution_count": 24,
   "metadata": {},
   "outputs": [
    {
     "name": "stdout",
     "output_type": "stream",
     "text": [
      "Integral exact= 1.718281828459045\n",
      "Composite midpoint 1.717566086461128 error= 0.0007157419979171298\n",
      "Composite midpoint 1.7181028538189067 error= 0.00017897464013838515\n",
      "Composite midpoint 1.7182022809523305 error= 7.954750671457234e-05\n",
      "Composite midpoint 1.718237082352115 error= 4.4746106930171337e-05\n",
      "Composite midpoint 1.718253190762678 error= 2.8637696367184162e-05\n",
      "Composite midpoint 1.7182619410990079 error= 1.988736003721847e-05\n",
      "Composite midpoint 1.7182672173059779 error= 1.461115306722327e-05\n",
      "Composite midpoint 1.7182706417793712 error= 1.1186679673924615e-05\n",
      "Composite midpoint 1.718272989592577 error= 8.838866468074968e-06\n"
     ]
    }
   ],
   "source": [
    "#Composite midpoint rule example \n",
    "f=lambda x: np.exp(x)\n",
    "a=0.0; b=1.0; \n",
    "Int_exact= np.exp(b)-np.exp(a)\n",
    "print('Integral exact=',Int_exact)\n",
    "for m in range(10,100,10):\n",
    "    print('Composite midpoint', cmr(f,a,b,m),  'error=',np.abs(cmr(f,a,b,m)-Int_exact))"
   ]
  },
  {
   "cell_type": "code",
   "execution_count": 25,
   "metadata": {},
   "outputs": [],
   "source": [
    "#Trapezoid rule\n",
    "def tr(f,x0,x1,h):\n",
    "    return 0.5*h*(f(x0)+f(x1))"
   ]
  },
  {
   "cell_type": "code",
   "execution_count": 26,
   "metadata": {},
   "outputs": [],
   "source": [
    "#Composite trapezoid rule \n",
    "def ctr(f,a,b,m):\n",
    "    h=(b-a)/m\n",
    "    sum=0\n",
    "    x0=a\n",
    "    for i in range(m):\n",
    "        x1=x0+h\n",
    "        sum=sum+tr(f,x0,x1,h)\n",
    "        x0=x1\n",
    "    return sum"
   ]
  },
  {
   "cell_type": "code",
   "execution_count": 27,
   "metadata": {},
   "outputs": [
    {
     "name": "stdout",
     "output_type": "stream",
     "text": [
      "Integral exact= 1.718281828459045\n",
      "Composite trapezoid 1.7197134913893146 error= 0.0014316629302695283\n",
      "Composite trapezoid 1.7186397889252212 error= 0.00035796046617608823\n",
      "Composite trapezoid 1.7184409256821251 error= 0.00015909722308005136\n",
      "Composite trapezoid 1.7183713213720642 error= 8.949291301907358e-05\n",
      "Composite trapezoid 1.7183391041381575 error= 5.7275679112400724e-05\n",
      "Composite trapezoid 1.718321603317229 error= 3.977485818396076e-05\n",
      "Composite trapezoid 1.7183110508397246 error= 2.922238067948335e-05\n",
      "Composite trapezoid 1.7183042018620882 error= 2.2373403043118856e-05\n",
      "Composite trapezoid 1.7182995062192599 error= 1.767776021477374e-05\n"
     ]
    }
   ],
   "source": [
    "#Composite trapezoid rule example\n",
    "print('Integral exact=',Int_exact)\n",
    "for m in range(10,100,10):\n",
    "    print('Composite trapezoid', ctr(f,a,b,m),  'error=',np.abs(ctr(f,a,b,m)-Int_exact))"
   ]
  },
  {
   "cell_type": "code",
   "execution_count": 28,
   "metadata": {},
   "outputs": [],
   "source": [
    "#Composite Simpson rule \n",
    "def csr(f,a,b,m):\n",
    "    h=(b-a)/(2*m)\n",
    "    sum1=0\n",
    "    sum2=0\n",
    "    y0=f(a)\n",
    "    y2m=f(b)\n",
    "    for i in range(1,m+1):\n",
    "        sum1=sum1+f(a+(2*i-1)*h)\n",
    "    for i in range(1,m):\n",
    "        sum2=sum2+f(a+(2*i)*h)\n",
    "    return (h/3)*(y0+y2m+4*sum1+2*sum2)"
   ]
  },
  {
   "cell_type": "code",
   "execution_count": 32,
   "metadata": {},
   "outputs": [
    {
     "name": "stdout",
     "output_type": "stream",
     "text": [
      "Integral exact= 1.718281828459045\n",
      "Composite Simpson 1.7182818881038566 error= 5.964481153419854e-08\n",
      "Composite Simpson 1.718281832187678 error= 3.7286329579444555e-09\n",
      "Composite Simpson 1.7182818291955961 error= 7.36551042379574e-10\n",
      "Composite Simpson 1.7182818286920982 error= 2.330531323480045e-10\n",
      "Composite Simpson 1.7182818285545045 error= 9.545941814792513e-11\n",
      "Composite Simpson 1.7182818285050812 error= 4.603606384989689e-11\n",
      "Composite Simpson 1.718281828483894 error= 2.4849011737160254e-11\n",
      "Composite Simpson 1.7182818284736106 error= 1.456545994926728e-11\n",
      "Composite Simpson 1.718281828468139 error= 9.093836794704657e-12\n"
     ]
    }
   ],
   "source": [
    "#Composite Simpson rule example\n",
    "print('Integral exact=',Int_exact)\n",
    "for m in range(10,100,10):\n",
    "    print('Composite Simpson', csr(f,a,b,m),  'error=',np.abs(csr(f,a,b,m)-Int_exact))"
   ]
  },
  {
   "cell_type": "code",
   "execution_count": null,
   "metadata": {},
   "outputs": [],
   "source": []
  },
  {
   "cell_type": "code",
   "execution_count": null,
   "metadata": {},
   "outputs": [],
   "source": []
  },
  {
   "cell_type": "code",
   "execution_count": null,
   "metadata": {},
   "outputs": [],
   "source": []
  }
 ],
 "metadata": {
  "kernelspec": {
   "display_name": "Python 3",
   "language": "python",
   "name": "python3"
  },
  "language_info": {
   "codemirror_mode": {
    "name": "ipython",
    "version": 3
   },
   "file_extension": ".py",
   "mimetype": "text/x-python",
   "name": "python",
   "nbconvert_exporter": "python",
   "pygments_lexer": "ipython3",
   "version": "3.8.5"
  }
 },
 "nbformat": 4,
 "nbformat_minor": 4
}
