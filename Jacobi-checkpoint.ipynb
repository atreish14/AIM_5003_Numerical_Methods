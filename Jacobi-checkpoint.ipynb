{
 "cells": [
  {
   "cell_type": "code",
   "execution_count": 55,
   "metadata": {},
   "outputs": [],
   "source": [
    "import numpy as np\n",
    "from numpy import linalg as la"
   ]
  },
  {
   "cell_type": "code",
   "execution_count": 56,
   "metadata": {},
   "outputs": [],
   "source": [
    "#Solves the equation Ax=b via the Jacobi iterative method.\"\"\"\n",
    "    # Create an initial guess if needed     \n",
    "#Input: square matrix A, row vector b, maximum number of steps N, initial guess x\n",
    "#Output solution x\n",
    "def Jacobi(A,b,N=25,x=None):\n",
    "    if x is None:\n",
    "        x = np.zeros(len(A[0]))\n",
    "    # Create a vector of the diagonal elements of A                                                                                                                                                \n",
    "    # and subtract them from A                                                                                                                                                                     \n",
    "    D = np.diag(A)\n",
    "    R = A - np.diagflat(D)\n",
    "    # Iterate for N times                                                                                                                                                                          \n",
    "    for i in range(N):\n",
    "        x = (b - np.dot(R,x)) / D\n",
    "    return x"
   ]
  },
  {
   "cell_type": "code",
   "execution_count": 57,
   "metadata": {},
   "outputs": [
    {
     "data": {
      "text/plain": [
       "array([ 7.11110202, -3.22220342])"
      ]
     },
     "execution_count": 57,
     "metadata": {},
     "output_type": "execute_result"
    }
   ],
   "source": [
    "A = np.array([[2.0,1.0],[5.0,7.0]])\n",
    "b = np.array([11.0,13.0])\n",
    "x0 = np.array([1.0,1.0])\n",
    "Jacobi(A,b,25,x0)"
   ]
  },
  {
   "cell_type": "code",
   "execution_count": 58,
   "metadata": {},
   "outputs": [
    {
     "name": "stderr",
     "output_type": "stream",
     "text": [
      "<ipython-input-56-3f4038cc85bf>:14: RuntimeWarning: divide by zero encountered in true_divide\n",
      "  x = (b - np.dot(R,x)) / D\n"
     ]
    },
    {
     "data": {
      "text/plain": [
       "array([nan, nan, nan])"
      ]
     },
     "execution_count": 58,
     "metadata": {},
     "output_type": "execute_result"
    }
   ],
   "source": [
    "A1=np.array([[0,2,1],[3,8,1],[0,4,1]])\n",
    "b1=np.array([5,17,26])\n",
    "Jacobi(A1,b1,25,None)"
   ]
  },
  {
   "cell_type": "code",
   "execution_count": 59,
   "metadata": {},
   "outputs": [
    {
     "name": "stdout",
     "output_type": "stream",
     "text": [
      "[[ 3. -1.  0.  0.  0.  0.  0.  0.  0.  0.]\n",
      " [-1.  3. -1.  0.  0.  0.  0.  0.  0.  0.]\n",
      " [ 0. -1.  3. -1.  0.  0.  0.  0.  0.  0.]\n",
      " [ 0.  0. -1.  3. -1.  0.  0.  0.  0.  0.]\n",
      " [ 0.  0.  0. -1.  3. -1.  0.  0.  0.  0.]\n",
      " [ 0.  0.  0.  0. -1.  3. -1.  0.  0.  0.]\n",
      " [ 0.  0.  0.  0.  0. -1.  3. -1.  0.  0.]\n",
      " [ 0.  0.  0.  0.  0.  0. -1.  3. -1.  0.]\n",
      " [ 0.  0.  0.  0.  0.  0.  0. -1.  3. -1.]\n",
      " [ 0.  0.  0.  0.  0.  0.  0.  0. -1.  3.]]\n",
      "[2.5 1.5 2.5 1.5 1.  1.  1.5 2.5 1.5 2.5]\n"
     ]
    },
    {
     "data": {
      "text/plain": [
       "array([1.35955056, 1.57865169, 1.87640449, 1.5505618 , 1.2752809 ,\n",
       "       1.2752809 , 1.5505618 , 1.87640449, 1.57865169, 1.35955056])"
      ]
     },
     "execution_count": 59,
     "metadata": {},
     "output_type": "execute_result"
    }
   ],
   "source": [
    "def tridiag(d1, d2, d3, k1=-1, k2=0, k3=1):\n",
    "    return np.diag(d1, k1) + np.diag(d2, k2) + np.diag(d3, k3)\n",
    "d1 = (-1)*np.ones(9); d2 = 3*np.ones(10); d3 = (-1)*np.ones(9)\n",
    "A2=tridiag(d1, d2, d3)\n",
    "b2=np.array([2.5,1.5,2.5,1.5,1.0,1.0,1.5,2.5,1.5,2.5])\n",
    "print(A2)\n",
    "print(b2)\n",
    "x2 = 1*np.ones(10)\n",
    "Jacobi(A2,b2,100,x2)"
   ]
  },
  {
   "cell_type": "code",
   "execution_count": null,
   "metadata": {},
   "outputs": [],
   "source": []
  },
  {
   "cell_type": "code",
   "execution_count": null,
   "metadata": {},
   "outputs": [],
   "source": []
  }
 ],
 "metadata": {
  "kernelspec": {
   "display_name": "Python 3",
   "language": "python",
   "name": "python3"
  },
  "language_info": {
   "codemirror_mode": {
    "name": "ipython",
    "version": 3
   },
   "file_extension": ".py",
   "mimetype": "text/x-python",
   "name": "python",
   "nbconvert_exporter": "python",
   "pygments_lexer": "ipython3",
   "version": "3.7.4"
  }
 },
 "nbformat": 4,
 "nbformat_minor": 4
}
