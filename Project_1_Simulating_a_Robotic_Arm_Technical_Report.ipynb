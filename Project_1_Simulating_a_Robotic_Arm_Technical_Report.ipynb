{
 "cells": [
  {
   "cell_type": "markdown",
   "metadata": {
    "id": "1gqH1LCrBwCI"
   },
   "source": [
    "## AIM 5003 - Numerical Methods\n",
    "\n",
    "# Project #1: Simulating a Robotic Arm\n",
    "\n",
    "###  Atreish Ramlakhan, Nosson Weissman, Aishwarya Singh"
   ]
  },
  {
   "cell_type": "markdown",
   "metadata": {
    "id": "EpX37G1L5mWU"
   },
   "source": [
    "## Introduction:\n",
    "\n",
    "This project demonstrates the value of a numerical method for identifying a root (i.e. a 0) of a polynomial if it exists. We use the Bisection Method to derive roots of a nested function of several variables we are given through an interval [-π,π]. The function seeks to calculate an angle θ that is most efficient given the generated values (x,y). This (x,y) point is generated from our imput values, so to ensure that this is calculated precicely so that all other imput parameters of the function operate within there constarints, we must generate the θ that does so by finding a root. First, we script the function with known imput parameters p1, p2, p3,L1,L2,L3,γ,x1,x2,y2 and use these to determine the unknown θ. Next, we graph the function in the interval [-π,π]. Next we observe the location of the roots, and graph a second scaled in view of the output. The final part of our experiment is to use a method, Bisection method was chosen, to find a root for the equation in a chosen interval (from the scaled in version of the graph) to the precision of a particular tolerance. This is repeated for the same function for 3 different sets of imput paramaters to determine the roots of the equation.    \n"
   ]
  },
  {
   "cell_type": "markdown",
   "metadata": {
    "id": "lSXqv5ydY6t0"
   },
   "source": [
    "p<sub>1</sub><sup>2</sup> = x<sup>2</sup> + y<sup>2</sup> <br>\n",
    "p<sub>2</sub><sup>2</sup> = (x + A<sub>2</sub>)<sup>2</sup> + (y + B<sub>2</sub>)<sup>2</sup> <br>\n",
    "p<sub>3</sub><sup>2</sup> = (x + A<sub>3</sub>)<sup>2</sup> + (y + B<sub>3</sub>)<sup>2</sup> <br>\n",
    "<br><br>\n",
    "A<sub>2</sub> = L<sub>3</sub> cosθ − x1 <br>\n",
    "B<sub>2</sub> = L<sub>3</sub> sinθ <br>\n",
    "A<sub>3</sub> = L<sub>2</sub> cos(θ+γ)−x2=L2[cosθ cosγ − sinθsinγ] − x2 <br>\n",
    "B<sub>3</sub> = L<sub>2</sub> sin(θ + γ ) − y2 = L2[ cos θ sinγ + sinθ cosγ ] − y2.\n",
    "\n",
    "\n",
    "p<sub>2</sub><sup>2</sup> = x<sup>2</sup> + y<sup>2</sup> + 2A<sub>2</sub>x + 2B<sub>2</sub> y + A<sub>2</sub><sup>2</sup> + B<sub>2</sub><sup>2</sup>  <br>\n",
    "\n",
    "p<sub>3</sub><sup>2</sup> = x<sup>2</sup> + y<sup>2</sup> + 2A<sub>3</sub>x + 2B<sub>3</sub> y + A<sub>3</sub><sup>2</sup> + B<sub>3</sub><sup>2</sup>\n",
    " <br><br>\n",
    "\n",
    "_f_ = N<sub>1</sub><sup>2</sup> + N<sub>2</sub><sup>2</sup> - p<sub>2</sub><sup>2</sup>D<sup>2</sup> = 0\n"
   ]
  },
  {
   "cell_type": "markdown",
   "metadata": {
    "id": "hvLAXaS64-si"
   },
   "source": [
    "## Methodology:\n",
    "We used the given forumla from the text when states that we are to use variables that are given p1, p2, p3, L1, L2, L3, γ, x1, x2, y2 and from there calculate unknown θ. The following equations are drafted from the parameters of the geometric interpretation:\n",
    "\n",
    "\n",
    "\n",
    "\n",
    "\n",
    "The last equation we must use to ensure that the correct θ is found by finiding the root. Since we will be using a continuous function that we must find a root for, we can use the bisection method very easily. There are no discontinuities just by viewing the graph so that we a Bisection section."
   ]
  },
  {
   "cell_type": "markdown",
   "metadata": {
    "id": "4qZn5C2n4_Rc"
   },
   "source": [
    "## Computer Experiments:\n",
    "\n",
    "We experiemented with the f0 function by firest imputing values x1 = 4, x2 = 1, y2 = 4, y1 = 0 and the remaining values were given. We then solved for the value of θ. This enabled us to graph the function from [-π,π]. This demonstrates where the function graphs and we can visually detect where the roots of the equation are by finding where the graphs equal 0. After we see that the graph crosses 0, we graph it again and use the bisection method code from class to find the roots. This gave use the roots for all 3 functions with different values for their imputs. In this particular experiment, we used the numpy linspace function with 1000 pieces of information, this returns evenly spaced numbers in an interval and then the numpy vectorize function that takes in the 1000 values into a numpy array and graphs it. This works for all graphs. We are able to zoom in and figure out the necessary intervals for the roots of the individual functions and then with the selected tolerance using the bisection method we found all roots. "
   ]
  },
  {
   "cell_type": "code",
   "execution_count": null,
   "metadata": {
    "id": "3KLR2W8V47Av"
   },
   "outputs": [],
   "source": [
    "import math\n",
    "import numpy as np \n",
    "import matplotlib.pyplot as plt"
   ]
  },
  {
   "cell_type": "markdown",
   "metadata": {
    "id": "XSOC-dLzCHPB"
   },
   "source": [
    "1 Write function and test for parameter values"
   ]
  },
  {
   "cell_type": "code",
   "execution_count": null,
   "metadata": {
    "id": "wM-z2pEgM7oq"
   },
   "outputs": [],
   "source": [
    "def f0(Theta, L1, L2, L3, x1, x2, y1, y2, P1, P2, P3, Alpha):\n",
    "\n",
    "        A2 = (-x1) + L3*math.cos(Theta)\n",
    "        B2 = L3*math.sin(Theta)\n",
    "\n",
    "        A3 = (-x2) + L2*math.cos(Theta)*math.cos(Alpha) - L2*math.sin(Theta)*math.sin(Alpha)\n",
    "        B3 = (-y2) + L2*math.sin(Theta)*math.cos(Alpha) + L2*math.cos(Theta)*math.sin(Alpha)\n",
    "\n",
    "        N1 = B3*(P2**2 - P1**2 - A2**2 - B2**2) - B2*(P3**2 - P1**2 - A3**2 - B3**2)\n",
    "        N2 = (-A3)*(P2**2 - P1**2 - A2**2 - B2**2) + A2*(P3**2 - P1**2 - A3**2 - B3**2)\n",
    "        D = 2*(A2*B3 - A3*B2)\n",
    "\n",
    "        x = N1/D\n",
    "        y = N2/D\n",
    "\n",
    "        fofTheta = N1**2 + N2**2 - P1**2*D**2\n",
    "        return fofTheta, x, y "
   ]
  },
  {
   "cell_type": "code",
   "execution_count": null,
   "metadata": {
    "id": "mKWwG61VCBdP"
   },
   "outputs": [],
   "source": [
    "def f1(Theta, \n",
    "        L1 = 2, L2 = math.sqrt(2), L3 = math.sqrt(2), #given values in the problem\n",
    "        x1 = 4, x2 = 1, y2 = 4, y1 = 0, #random values chosen \n",
    "        P1 = math.sqrt(5), P2 = math.sqrt(5), P3 = math.sqrt(5), #given values\n",
    "        Alpha = math.pi/2):\n",
    "\n",
    "        return f0(Theta, L1, L2, L3, x1, x2, y1, y2, P1, P2, P3, Alpha)"
   ]
  },
  {
   "cell_type": "code",
   "execution_count": null,
   "metadata": {
    "colab": {
     "base_uri": "https://localhost:8080/"
    },
    "id": "0a28X_SWCuW2",
    "outputId": "ffd8d1e8-7d3e-47da-9587-18b9a5ea3b1c"
   },
   "outputs": [
    {
     "data": {
      "text/plain": [
       "4967.5272708720795"
      ]
     },
     "execution_count": 7,
     "metadata": {
      "tags": []
     },
     "output_type": "execute_result"
    }
   ],
   "source": [
    "Theta = math.pi/(2) #Testing Values #2 on pg 72\n",
    "f1(Theta)[0]"
   ]
  },
  {
   "cell_type": "code",
   "execution_count": null,
   "metadata": {
    "colab": {
     "base_uri": "https://localhost:8080/"
    },
    "id": "Ogj5ZUwUC0Hh",
    "outputId": "86ef591d-8329-430d-dfa4-523da377b9a2"
   },
   "outputs": [
    {
     "data": {
      "text/plain": [
       "2116.4727291279196"
      ]
     },
     "execution_count": 8,
     "metadata": {
      "tags": []
     },
     "output_type": "execute_result"
    }
   ],
   "source": [
    "Theta = math.pi/(-2)\n",
    "f1(Theta)[0]"
   ]
  },
  {
   "cell_type": "markdown",
   "metadata": {
    "id": "wROExsBIIglA"
   },
   "source": [
    "2 Plot f(theta) for theta in [-pi,pi] Approximately localize roots"
   ]
  },
  {
   "cell_type": "code",
   "execution_count": null,
   "metadata": {
    "id": "KVufbKPFKERN"
   },
   "outputs": [],
   "source": [
    "plt.style.use('seaborn-whitegrid')\n",
    "plt.figure(figsize=(15,8))\n",
    "ax = plt.axes()\n",
    "x = np.linspace(-math.pi,math.pi,1000)\n",
    "f2 = np.vectorize(f1)\n",
    "y = f2(x)[0]\n",
    "plt.plot(x,y, 'red')\n",
    "plt.show()"
   ]
  },
  {
   "cell_type": "code",
   "execution_count": null,
   "metadata": {
    "id": "XmjgtKJDKNI2"
   },
   "outputs": [],
   "source": [
    "plt.style.use('seaborn-whitegrid')\n",
    "plt.figure(figsize=(15,8))\n",
    "plt.xlim([-1.5, 1.5])\n",
    "plt.ylim([-25, 25])\n",
    "plt.plot(x,y, 'red')\n",
    "plt.show()\n",
    "\n",
    "#the range of the roots of the equation are shown in the graph. They are between [-1.5,1] on the X-axis"
   ]
  },
  {
   "cell_type": "markdown",
   "metadata": {
    "id": "h_By2vFFKWPg"
   },
   "source": [
    "3 Solve for Theta using an equation solver Method from Ch1. There can be at most 6 roots for Theta, then for x and y"
   ]
  },
  {
   "cell_type": "code",
   "execution_count": null,
   "metadata": {
    "id": "TWf6VwM4KXcN"
   },
   "outputs": [],
   "source": [
    "def bisection(f, a, b, TOL):\n",
    "    if np.sign(f(a)[0])*np.sign(f(b)[0]) > 0: # sign is determin if symbol is -1, 0, or 1\n",
    "        print('f(a)f(b)<0 not satisfied') \n",
    "        return # stop execution\n",
    "    n=1\n",
    "    fa= f(a)[0]\n",
    "    fb= f(b)[0]            \n",
    "    while np.abs(a-b)>TOL:\n",
    "        c = (a+b)/2\n",
    "        fc=f(c)[0]   \n",
    "        n=n+1\n",
    "        if np.isclose(f(c)[0], 0):\n",
    "            print('Approximate  root', c, 'has been obtained in', n, 'steps')\n",
    "            return\n",
    "        if np.sign(fc)*np.sign(fa)<0:\n",
    "            b = c\n",
    "            fb=fc\n",
    "        else:\n",
    "            a = c\n",
    "            fa= fc\n",
    "    c=(a+b)/2\n",
    "    print('The final interval [', a, b, '] contains a root')\n",
    "    print('Approximate  root', c, 'has been obtained in', n, 'steps')\n",
    "    return c"
   ]
  },
  {
   "cell_type": "markdown",
   "metadata": {
    "id": "rJfULaKSKghh"
   },
   "source": [
    "2 roots"
   ]
  },
  {
   "cell_type": "code",
   "execution_count": null,
   "metadata": {
    "colab": {
     "base_uri": "https://localhost:8080/"
    },
    "id": "iokz6K0IKjz1",
    "outputId": "501f0dd0-641f-45bf-8d80-3802af54645b"
   },
   "outputs": [
    {
     "name": "stdout",
     "output_type": "stream",
     "text": [
      "The final interval [ -1.161712646484375 -1.1617088317871094 ] contains a root\n",
      "Approximate  root -1.1617107391357422 has been obtained in 19 steps\n",
      "-1.1617107391357422\n",
      "The final interval [ 0.890045166015625 0.8900489807128906 ] contains a root\n",
      "Approximate  root 0.8900470733642578 has been obtained in 19 steps\n",
      "0.8900470733642578\n"
     ]
    }
   ],
   "source": [
    "print( bisection(f1,-1.5,-0.5,0.5e-5))\n",
    "print( bisection(f1,0.5,1.5,0.5e-5))"
   ]
  },
  {
   "cell_type": "markdown",
   "metadata": {
    "id": "fHWFU7H5Lc4n"
   },
   "source": [
    "4 roots"
   ]
  },
  {
   "cell_type": "code",
   "execution_count": null,
   "metadata": {
    "id": "puaaZCVbLfTR"
   },
   "outputs": [],
   "source": [
    "def f4(Theta, \n",
    "        L1 =3, L2=3*math.sqrt(2),L3=3, \n",
    "        x1=5, x2=0, y2=6, y1=0,  \n",
    "        P1=5, P2=5,P3=3, \n",
    "        Alpha=math.pi/4): \n",
    "        \n",
    "        return f0(Theta, L1, L2, L3, x1, x2, y1, y2, P1, P2, P3, Alpha)"
   ]
  },
  {
   "cell_type": "code",
   "execution_count": null,
   "metadata": {
    "id": "6hNIJzxbLq-G"
   },
   "outputs": [],
   "source": [
    "plt.style.use('seaborn-whitegrid')\n",
    "plt.figure(figsize=(15,8))\n",
    "ax = plt.axes()\n",
    "x = np.linspace(-math.pi,math.pi,1000)\n",
    "f5 = np.vectorize(f4)\n",
    "y = f5(x)[0]\n",
    "plt.plot(x,y, 'red')\n",
    "plt.show()"
   ]
  },
  {
   "cell_type": "code",
   "execution_count": null,
   "metadata": {
    "id": "eG6pYWTOLuz-"
   },
   "outputs": [],
   "source": [
    "plt.style.use('seaborn-whitegrid')\n",
    "plt.figure(figsize=(15,8))\n",
    "plt.xlim([-2, 2.5])\n",
    "plt.ylim([-25, 25])\n",
    "plt.plot(x,y, 'red')\n",
    "plt.show()"
   ]
  },
  {
   "cell_type": "code",
   "execution_count": null,
   "metadata": {
    "colab": {
     "base_uri": "https://localhost:8080/"
    },
    "id": "UV3W2yOnL0T4",
    "outputId": "af4b1795-d2ba-446b-bfd2-303fdda66ddf"
   },
   "outputs": [
    {
     "name": "stdout",
     "output_type": "stream",
     "text": [
      "The final interval [ -0.7208518981933594 -0.7208480834960938 ] contains a root\n",
      "Approximate  root -0.7208499908447266 has been obtained in 18 steps\n",
      "-0.7208499908447266\n",
      "The final interval [ -0.3310089111328125 -0.3310050964355469 ] contains a root\n",
      "Approximate  root -0.3310070037841797 has been obtained in 18 steps\n",
      "-0.3310070037841797\n",
      "The final interval [ 1.1436843872070312 1.1436882019042969 ] contains a root\n",
      "Approximate  root 1.143686294555664 has been obtained in 18 steps\n",
      "1.143686294555664\n",
      "The final interval [ 2.11590576171875 2.1159095764160156 ] contains a root\n",
      "Approximate  root 2.115907669067383 has been obtained in 18 steps\n",
      "2.115907669067383\n"
     ]
    }
   ],
   "source": [
    "print(bisection(f4,-1,-0.5,0.5e-5))\n",
    "print(bisection(f4,-0.5,0,0.5e-5))\n",
    "print(bisection(f4,1,1.5,0.5e-5))\n",
    "print(bisection(f4,2,2.5,0.5e-5))"
   ]
  },
  {
   "cell_type": "markdown",
   "metadata": {
    "id": "t0QIPuIiL9bf"
   },
   "source": [
    "6 roots"
   ]
  },
  {
   "cell_type": "code",
   "execution_count": null,
   "metadata": {
    "id": "8e77Foy2L8TW"
   },
   "outputs": [],
   "source": [
    "def f6(Theta, \n",
    "        L1 =3, L2=3*math.sqrt(2),L3=3, \n",
    "        x1=5, x2=0, y2=6, y1=0,  \n",
    "        P1=5, P2=7,P3=3, \n",
    "        Alpha=math.pi/4): \n",
    "        \n",
    "        return f0(Theta, L1, L2, L3, x1, x2, y1, y2, P1, P2, P3, Alpha)"
   ]
  },
  {
   "cell_type": "code",
   "execution_count": null,
   "metadata": {
    "id": "E2nH00xOMCd1"
   },
   "outputs": [],
   "source": [
    "plt.style.use('seaborn-whitegrid')\n",
    "plt.figure(figsize=(15,8))\n",
    "ax = plt.axes()\n",
    "x = np.linspace(-math.pi,math.pi,1000)\n",
    "f7 = np.vectorize(f6)\n",
    "y = f7(x)[0]\n",
    "plt.plot(x,y, 'red')\n",
    "plt.show()"
   ]
  },
  {
   "cell_type": "code",
   "execution_count": null,
   "metadata": {
    "id": "IfvMYjmoMTbu"
   },
   "outputs": [],
   "source": [
    "plt.style.use('seaborn-whitegrid')\n",
    "plt.figure(figsize=(15,8))\n",
    "plt.xlim([-2, 3])\n",
    "plt.ylim([-25, 25])\n",
    "plt.plot(x,y, 'red')\n",
    "plt.show()"
   ]
  },
  {
   "cell_type": "code",
   "execution_count": null,
   "metadata": {
    "colab": {
     "base_uri": "https://localhost:8080/"
    },
    "id": "eBwpYaTBMp5O",
    "outputId": "74dc00b6-6c32-4a1b-a963-71fcdcd2e1e8"
   },
   "outputs": [
    {
     "name": "stdout",
     "output_type": "stream",
     "text": [
      "The final interval [ -0.6731605529785156 -0.67315673828125 ] contains a root\n",
      "Approximate  root -0.6731586456298828 has been obtained in 18 steps\n",
      "-0.6731586456298828\n",
      "The final interval [ -0.35474395751953125 -0.3547401428222656 ] contains a root\n",
      "Approximate  root -0.35474205017089844 has been obtained in 18 steps\n",
      "-0.35474205017089844\n",
      "The final interval [ 0.0377655029296875 0.037769317626953125 ] contains a root\n",
      "Approximate  root 0.03776741027832031 has been obtained in 17 steps\n",
      "0.03776741027832031\n",
      "The final interval [ 0.4588775634765625 0.4588813781738281 ] contains a root\n",
      "Approximate  root 0.4588794708251953 has been obtained in 17 steps\n",
      "0.4588794708251953\n",
      "The final interval [ 0.9776725769042969 0.9776763916015625 ] contains a root\n",
      "Approximate  root 0.9776744842529297 has been obtained in 18 steps\n",
      "0.9776744842529297\n",
      "The final interval [ 2.5138511657714844 2.51385498046875 ] contains a root\n",
      "Approximate  root 2.513853073120117 has been obtained in 19 steps\n",
      "2.513853073120117\n"
     ]
    }
   ],
   "source": [
    "print(bisection(f6,-1,-0.5,0.5e-5))\n",
    "print(bisection(f6,-0.5,0,0.5e-5))\n",
    "print(bisection(f6,0,0.25,0.5e-5))\n",
    "print(bisection(f6,0.25,0.5,0.5e-5))\n",
    "print(bisection(f6,0.5,1,0.5e-5))\n",
    "print(bisection(f6,2,3,0.5e-5))"
   ]
  },
  {
   "cell_type": "markdown",
   "metadata": {
    "id": "i1Lek-VZ4_US"
   },
   "source": [
    "## Conclusion:\n",
    "\n",
    "The function f0 effectively found a suitable angle θ for the parameter values indicated p1, p2, p3,L1,L2,L3,γ,x1,x2,y2. Since these values were known, it was within the function itself to find a point (x,y). However, to be certain that this point actually works for the given parameters, we must ensure that the equation f = N_1^2 + N_2^2 − p_1^2*D^2 = 0. This is a classic problem of finding a root. So we graphed the 3 different sets of imput paramaters and found that indeed we have 2, 4 and 6 roots. The first set of imput parameters were guessed and the final 2 were taken from the text pg. 72. After we graph the function on the interval [-π,π] we observe the location of the roots, i.e. where the function hits 0 and then we localize in with another graph. This 2nd graph allowed up to determine intervals, and how many roots we have so that we apply the Bisection method for finding their approximate values with a certain tolerance. This procedure worked well for all equations. \n",
    "\n",
    "\n",
    "\n",
    "\n"
   ]
  },
  {
   "cell_type": "markdown",
   "metadata": {
    "id": "h6A-KkUs4_W6"
   },
   "source": [
    "## References Cited:\n",
    "\n",
    "Sauer, T. (2017). Numerical Analysis (3rd ed.). Upper Saddle River, NJ: Pearson\n",
    "\n",
    "https://numpy.org/doc/stable/reference/generated/numpy.linspace.html\n",
    "\n",
    "https://numpy.org/doc/stable/reference/generated/numpy.vectorize.html"
   ]
  }
 ],
 "metadata": {
  "colab": {
   "collapsed_sections": [],
   "name": "Project #1: Simulating a Robotic Arm",
   "provenance": []
  },
  "kernelspec": {
   "display_name": "Python 3 (ipykernel)",
   "language": "python",
   "name": "python3"
  },
  "language_info": {
   "codemirror_mode": {
    "name": "ipython",
    "version": 3
   },
   "file_extension": ".py",
   "mimetype": "text/x-python",
   "name": "python",
   "nbconvert_exporter": "python",
   "pygments_lexer": "ipython3",
   "version": "3.8.2"
  }
 },
 "nbformat": 4,
 "nbformat_minor": 1
}
