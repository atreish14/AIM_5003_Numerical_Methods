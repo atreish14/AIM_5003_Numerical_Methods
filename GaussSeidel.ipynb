{
 "cells": [
  {
   "cell_type": "code",
   "execution_count": 105,
   "metadata": {},
   "outputs": [],
   "source": [
    "import numpy as np\n",
    "from numpy import linalg as la"
   ]
  },
  {
   "cell_type": "code",
   "execution_count": 106,
   "metadata": {},
   "outputs": [],
   "source": [
    "#Solves the equation Ax=b via the Gauss-Seidel iterative method\n",
    "# Create an initial guess if needed     \n",
    "#Input:  square matrix A, row vector b, maximum number of steps N, initial guess x,\n",
    "#        TOL1 stopping condition for solution to solve the system\n",
    "#        TOL2 stopping condition or solutions to converge\n",
    "#Output: solution x\n",
    "def GaussSeidel(A, b,  N, x, TOL1, TOL2):\n",
    "    n=len(A)\n",
    "    x0=x\n",
    "    x1=np.zeros(n)\n",
    "    for j in range(N):\n",
    "        for i in range(n):\n",
    "            x1[i] = (b[i]-np.dot(A[i,i+1:n], x0[i+1:n]) - np.dot(A[i,0:i], x1[0:i])) / A[i,i]\n",
    "        r    = b - np.dot(A,x1)\n",
    "        if (la.norm(r) < TOL1) and (la.norm(x1-x0) < TOL2):\n",
    "            print('Approximate solution', x1, 'in steps=', j)\n",
    "            return(x1)    \n",
    "        x0=x1    \n",
    "    return x1"
   ]
  },
  {
   "cell_type": "code",
   "execution_count": 107,
   "metadata": {},
   "outputs": [
    {
     "name": "stdout",
     "output_type": "stream",
     "text": [
      "Approximate solution [ 1.99999975 -0.9999998   0.99999987] in steps= 18\n"
     ]
    },
    {
     "data": {
      "text/plain": [
       "array([ 1.99999975, -0.9999998 ,  0.99999987])"
      ]
     },
     "execution_count": 107,
     "metadata": {},
     "output_type": "execute_result"
    }
   ],
   "source": [
    "A = np.array([[3, 1, -1], [2, 4, 1], [-1, 2, 5]])\n",
    "b = np.array([4, 1, 1])\n",
    "x = np.array([1, 0, 0])\n",
    "TOL1=1.e-6\n",
    "TOL2=1.e-6\n",
    "N=25\n",
    "GaussSeidel(A, b, N, x,TOL1,TOL2)"
   ]
  },
  {
   "cell_type": "code",
   "execution_count": 108,
   "metadata": {},
   "outputs": [
    {
     "name": "stdout",
     "output_type": "stream",
     "text": [
      "[[ 3. -1.  0.  0.  0.  0.  0.  0.  0.  0.]\n",
      " [-1.  3. -1.  0.  0.  0.  0.  0.  0.  0.]\n",
      " [ 0. -1.  3. -1.  0.  0.  0.  0.  0.  0.]\n",
      " [ 0.  0. -1.  3. -1.  0.  0.  0.  0.  0.]\n",
      " [ 0.  0.  0. -1.  3. -1.  0.  0.  0.  0.]\n",
      " [ 0.  0.  0.  0. -1.  3. -1.  0.  0.  0.]\n",
      " [ 0.  0.  0.  0.  0. -1.  3. -1.  0.  0.]\n",
      " [ 0.  0.  0.  0.  0.  0. -1.  3. -1.  0.]\n",
      " [ 0.  0.  0.  0.  0.  0.  0. -1.  3. -1.]\n",
      " [ 0.  0.  0.  0.  0.  0.  0.  0. -1.  3.]]\n",
      "[2.5 1.5 2.5 1.5 1.  1.  1.5 2.5 1.5 2.5]\n",
      "Approximate solution [1.35955025 1.5786513  1.87640414 1.55056152 1.27528071 1.27528077\n",
      " 1.55056172 1.87640446 1.57865167 1.35955056] in steps= 17\n"
     ]
    },
    {
     "data": {
      "text/plain": [
       "array([1.35955025, 1.5786513 , 1.87640414, 1.55056152, 1.27528071,\n",
       "       1.27528077, 1.55056172, 1.87640446, 1.57865167, 1.35955056])"
      ]
     },
     "execution_count": 108,
     "metadata": {},
     "output_type": "execute_result"
    }
   ],
   "source": [
    "def tridiag(d1, d2, d3, k1=-1, k2=0, k3=1):\n",
    "    return np.diag(d1, k1) + np.diag(d2, k2) + np.diag(d3, k3)\n",
    "d1 = (-1)*np.ones(9); d2 = 3*np.ones(10); d3 = (-1)*np.ones(9)\n",
    "A2=tridiag(d1, d2, d3)\n",
    "b2=np.array([2.5,1.5,2.5,1.5,1.0,1.0,1.5,2.5,1.5,2.5])\n",
    "print(A2)\n",
    "print(b2)\n",
    "x2 = 1*np.ones(10)\n",
    "TOL1=1.e-6\n",
    "TOL2=1.e-6\n",
    "N=50\n",
    "GaussSeidel(A2, b2, N, x2,TOL1,TOL2)"
   ]
  },
  {
   "cell_type": "code",
   "execution_count": null,
   "metadata": {},
   "outputs": [],
   "source": []
  },
  {
   "cell_type": "code",
   "execution_count": null,
   "metadata": {},
   "outputs": [],
   "source": []
  },
  {
   "cell_type": "code",
   "execution_count": null,
   "metadata": {},
   "outputs": [],
   "source": []
  }
 ],
 "metadata": {
  "kernelspec": {
   "display_name": "Python 3",
   "language": "python",
   "name": "python3"
  },
  "language_info": {
   "codemirror_mode": {
    "name": "ipython",
    "version": 3
   },
   "file_extension": ".py",
   "mimetype": "text/x-python",
   "name": "python",
   "nbconvert_exporter": "python",
   "pygments_lexer": "ipython3",
   "version": "3.7.4"
  }
 },
 "nbformat": 4,
 "nbformat_minor": 4
}
