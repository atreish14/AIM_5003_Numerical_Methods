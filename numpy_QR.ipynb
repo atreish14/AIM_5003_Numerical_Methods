{
 "cells": [
  {
   "cell_type": "code",
   "execution_count": 23,
   "metadata": {},
   "outputs": [],
   "source": [
    "import numpy as np"
   ]
  },
  {
   "cell_type": "code",
   "execution_count": 24,
   "metadata": {},
   "outputs": [
    {
     "name": "stdout",
     "output_type": "stream",
     "text": [
      "[[ 2  1]\n",
      " [ 1 -1]\n",
      " [ 2  1]]\n",
      "\n",
      "Q:\n",
      " [[-6.66666667e-01  2.35702260e-01 -7.07106781e-01]\n",
      " [-3.33333333e-01 -9.42809042e-01 -2.13241722e-16]\n",
      " [-6.66666667e-01  2.35702260e-01  7.07106781e-01]]\n",
      "\n",
      "R:\n",
      " [[-3.         -1.        ]\n",
      " [ 0.          1.41421356]\n",
      " [ 0.          0.        ]]\n"
     ]
    }
   ],
   "source": [
    "# QR factorization using Numpy\n",
    "# Original matrix A\n",
    "A = np.array([[2, 1], [1, -1], [2, 1]]) \n",
    "print(A) \n",
    "# Decomposition of the matrix \n",
    "# Options: reduced or complete\n",
    "Q, R = np.linalg.qr(A, mode='complete') \n",
    "\n",
    "print('\\nQ:\\n', Q) \n",
    "print('\\nR:\\n', R) "
   ]
  },
  {
   "cell_type": "code",
   "execution_count": null,
   "metadata": {},
   "outputs": [],
   "source": []
  },
  {
   "cell_type": "code",
   "execution_count": null,
   "metadata": {},
   "outputs": [],
   "source": []
  }
 ],
 "metadata": {
  "kernelspec": {
   "display_name": "Python 3",
   "language": "python",
   "name": "python3"
  },
  "language_info": {
   "codemirror_mode": {
    "name": "ipython",
    "version": 3
   },
   "file_extension": ".py",
   "mimetype": "text/x-python",
   "name": "python",
   "nbconvert_exporter": "python",
   "pygments_lexer": "ipython3",
   "version": "3.8.5"
  }
 },
 "nbformat": 4,
 "nbformat_minor": 4
}
