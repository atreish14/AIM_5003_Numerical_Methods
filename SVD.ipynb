{
 "cells": [
  {
   "cell_type": "code",
   "execution_count": 9,
   "metadata": {},
   "outputs": [],
   "source": [
    "import numpy as np \n",
    "from numpy import array\n",
    "from numpy import diag\n",
    "from numpy import dot\n",
    "from scipy.linalg import svd"
   ]
  },
  {
   "cell_type": "code",
   "execution_count": 12,
   "metadata": {},
   "outputs": [
    {
     "name": "stdout",
     "output_type": "stream",
     "text": [
      "[[1 2 3]\n",
      " [4 5 6]\n",
      " [7 8 9]\n",
      " [1 1 1]]\n",
      "Singular values= [1.69353938e+01 1.09198772e+00 4.31563540e-17]\n",
      "U= [[-0.2136533  -0.87256508 -0.43709456  0.04394086]\n",
      " [-0.51788213 -0.2552086   0.78514026  0.22410139]\n",
      " [-0.82211097  0.36214788 -0.3480457  -0.26804225]\n",
      " [-0.10140961  0.20578549 -0.26714659  0.93594932]]\n",
      "S= [[1.69353938e+01 0.00000000e+00 0.00000000e+00]\n",
      " [0.00000000e+00 1.09198772e+00 0.00000000e+00]\n",
      " [0.00000000e+00 0.00000000e+00 4.31563540e-17]\n",
      " [0.00000000e+00 0.00000000e+00 0.00000000e+00]]\n",
      "VT= [[-0.48073097 -0.57247058 -0.66421019]\n",
      " [ 0.77603548  0.07490508 -0.62622533]\n",
      " [-0.40824829  0.81649658 -0.40824829]]\n",
      "[[1. 2. 3.]\n",
      " [4. 5. 6.]\n",
      " [7. 8. 9.]\n",
      " [1. 1. 1.]]\n"
     ]
    }
   ],
   "source": [
    "# Reconstruct SVD\n",
    "# define a matrix\n",
    "A = array([[1, 2, 3], [4, 5, 6], [7, 8, 9], [1,1,1]])\n",
    "print(A)\n",
    "# Singular-value decomposition\n",
    "U, s, VT = svd(A)\n",
    "# create n x n Sigma matrix\n",
    "print('Singular values=',s)\n",
    "m,n=np.shape(A)\n",
    "k=min(m,n)\n",
    "S = np.zeros((m, n))\n",
    "S[:k, :k] = np.diag(s)\n",
    "print('U=',U)\n",
    "print('S=',S)\n",
    "print('VT=',VT)\n",
    "# reconstruct matrix\n",
    "B = U.dot(S.dot(VT))\n",
    "print(B)"
   ]
  },
  {
   "cell_type": "code",
   "execution_count": null,
   "metadata": {},
   "outputs": [],
   "source": []
  },
  {
   "cell_type": "code",
   "execution_count": null,
   "metadata": {},
   "outputs": [],
   "source": []
  },
  {
   "cell_type": "code",
   "execution_count": null,
   "metadata": {},
   "outputs": [],
   "source": []
  }
 ],
 "metadata": {
  "kernelspec": {
   "display_name": "Python 3",
   "language": "python",
   "name": "python3"
  },
  "language_info": {
   "codemirror_mode": {
    "name": "ipython",
    "version": 3
   },
   "file_extension": ".py",
   "mimetype": "text/x-python",
   "name": "python",
   "nbconvert_exporter": "python",
   "pygments_lexer": "ipython3",
   "version": "3.7.4"
  }
 },
 "nbformat": 4,
 "nbformat_minor": 4
}
