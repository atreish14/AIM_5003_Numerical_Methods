{
 "cells": [
  {
   "cell_type": "code",
   "execution_count": 38,
   "metadata": {},
   "outputs": [],
   "source": [
    "import numpy as np\n",
    "import matplotlib.pyplot as plt"
   ]
  },
  {
   "cell_type": "code",
   "execution_count": 44,
   "metadata": {},
   "outputs": [],
   "source": [
    "# Lagrange interpolation\n",
    "# Input: pairs of points (xi,yi)\n",
    "# Output: interpolation polynomial \n",
    "def interpolation(x, xi,yi):\n",
    "    d = xi.size\n",
    "    sum = 0\n",
    "    for i in range(d):\n",
    "        prod=1\n",
    "        gen = (j for j in range(d) if j!=i)\n",
    "        for j in gen:         \n",
    "            prod=prod*(x-xi[j])/(xi[i]-xi[j])\n",
    "        sum=sum+yi[i]*prod\n",
    "    return sum"
   ]
  },
  {
   "cell_type": "code",
   "execution_count": 47,
   "metadata": {},
   "outputs": [],
   "source": [
    "f=lambda x: np.exp(x)\n",
    "xi=np.array([0,1,2,3])\n",
    "yi=f(xi)"
   ]
  },
  {
   "cell_type": "code",
   "execution_count": 55,
   "metadata": {},
   "outputs": [
    {
     "data": {
      "image/png": "[encoded data removed]",
      "text/plain": [
       "<Figure size 432x288 with 1 Axes>"
      ]
     },
     "metadata": {
      "needs_background": "light"
     },
     "output_type": "display_data"
    }
   ],
   "source": [
    "xaxis = np.linspace(0, 4.5, 100)\n",
    "yvals = interpolation(xaxis,xi,yi)\n",
    "yrange= f(xaxis)\n",
    "plt.plot(xaxis, yvals, 'b')\n",
    "plt.plot(xi, yi, 'o')\n",
    "plt.plot(xaxis, yrange, 'g')\n",
    "plt.show()"
   ]
  },
  {
   "cell_type": "code",
   "execution_count": null,
   "metadata": {},
   "outputs": [],
   "source": []
  },
  {
   "cell_type": "code",
   "execution_count": null,
   "metadata": {},
   "outputs": [],
   "source": []
  }
 ],
 "metadata": {
  "kernelspec": {
   "display_name": "Python 3",
   "language": "python",
   "name": "python3"
  },
  "language_info": {
   "codemirror_mode": {
    "name": "ipython",
    "version": 3
   },
   "file_extension": ".py",
   "mimetype": "text/x-python",
   "name": "python",
   "nbconvert_exporter": "python",
   "pygments_lexer": "ipython3",
   "version": "3.8.5"
  }
 },
 "nbformat": 4,
 "nbformat_minor": 4
}
