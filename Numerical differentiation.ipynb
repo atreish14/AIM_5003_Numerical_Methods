{
 "cells": [
  {
   "cell_type": "code",
   "execution_count": 63,
   "metadata": {},
   "outputs": [],
   "source": [
    "import numpy as np"
   ]
  },
  {
   "cell_type": "code",
   "execution_count": 64,
   "metadata": {},
   "outputs": [],
   "source": [
    "def df_2p(f,x0,h):\n",
    "    return (f(x0+h)-f(x0))/h"
   ]
  },
  {
   "cell_type": "code",
   "execution_count": 65,
   "metadata": {},
   "outputs": [],
   "source": [
    "def df_3p(f,x0,h):\n",
    "    return (f(x0+h)-f(x0-h))/(2*h)"
   ]
  },
  {
   "cell_type": "code",
   "execution_count": 66,
   "metadata": {},
   "outputs": [],
   "source": [
    "def d2f_3p(f,x0,h):\n",
    "    return (f(x0+h)-2*f(x0)+f(x0-h))/(h**2)"
   ]
  },
  {
   "cell_type": "code",
   "execution_count": 67,
   "metadata": {},
   "outputs": [
    {
     "name": "stdout",
     "output_type": "stream",
     "text": [
      "First derivative exact= 1.0\n",
      "First derivative estimate= 1.0517091807564771 error= 0.051709180756477124\n",
      "First derivative estimate= 1.005016708416795 error= 0.005016708416794913\n",
      "First derivative estimate= 1.001667500198441 error= 0.0016675001984409743\n",
      "First derivative estimate= 1.0000166667499921 error= 1.6666749992122476e-05\n",
      "Second derivative exact= 1.0\n",
      "Second derivative estimate= 1.0008336111607228 error= 0.0008336111607227803\n",
      "Second derivative estimate= 1.000008333360558 error= 8.333360558054892e-06\n"
     ]
    }
   ],
   "source": [
    "f=lambda x: np.exp(x)\n",
    "x0=0.0\n",
    "print('First derivative exact=', np.exp(0))\n",
    "print('First derivative estimate=',df_2p(f,x0,h=0.1),'error=',np.abs(df_2p(f,x0,h=0.1)-np.exp(0)))\n",
    "print('First derivative estimate=',df_2p(f,x0,h=0.01),'error=',np.abs(df_2p(f,x0,h=0.01)-np.exp(0)))\n",
    "print('First derivative estimate=',df_3p(f,x0,h=0.1),'error=',np.abs(df_3p(f,x0,h=0.1)-np.exp(0)))\n",
    "print('First derivative estimate=',df_3p(f,x0,h=0.01),'error=',np.abs(df_3p(f,x0,h=0.01)-np.exp(0)))\n",
    "print('Second derivative exact=', np.exp(0))\n",
    "print('Second derivative estimate=',d2f_3p(f,x0,h=0.1),'error=',np.abs(d2f_3p(f,x0,h=0.1)-np.exp(0)))\n",
    "print('Second derivative estimate=',d2f_3p(f,x0,h=0.01),'error=',np.abs(d2f_3p(f,x0,h=0.01)-np.exp(0)))"
   ]
  },
  {
   "cell_type": "code",
   "execution_count": 71,
   "metadata": {},
   "outputs": [
    {
     "name": "stdout",
     "output_type": "stream",
     "text": [
      "For h= 0.1 error= 0.0016675001984409743\n",
      "For h= 0.01 error= 1.6666749992122476e-05\n",
      "For h= 0.001 error= 1.6666668134490692e-07\n",
      "For h= 0.0001 error= 1.6668897373506297e-09\n",
      "For h= 1e-05 error= 1.2102319146833906e-11\n",
      "For h= 1e-05 error= 1.2102319146833906e-11\n",
      "For h= 1e-05 error= 1.2102319146833906e-11\n",
      "For h= 1e-05 error= 1.2102319146833906e-11\n",
      "For h= 1e-09 error= 2.7229219767832546e-08\n",
      "For h= 1e-10 error= 8.274037099909037e-08\n",
      "For h= 1e-11 error= 8.274037099909037e-08\n",
      "For h= 1e-12 error= 3.3389431109753787e-05\n",
      "For h= 1e-13 error= 0.00024416632504653535\n",
      "For h= 1e-14 error= 0.0007992778373591136\n",
      "For h= 1e-15 error= 0.05471187339389871\n",
      "For h= 1e-16 error= 0.44488848768742173\n"
     ]
    }
   ],
   "source": [
    "f=lambda x: np.exp(x)\n",
    "x0=0.0\n",
    "for h in np.array([1.e-1,1.e-2,1.e-3,1.e-4,1.e-5,1.e-5,1.e-5,1.e-5,1.e-9,1.e-10,1.e-11,1.e-12,1.e-13,1.e-14,1.e-15,1.e-16]):\n",
    "    print('For h=',h,'error=',np.abs(df_3p(f,x0,h)-np.exp(0)))"
   ]
  },
  {
   "cell_type": "code",
   "execution_count": 54,
   "metadata": {},
   "outputs": [
    {
     "name": "stdout",
     "output_type": "stream",
     "text": [
      "First derivative exact= 100.0\n",
      "First derivative estimate= 95.31017980432476 error= 4.689820195675239\n",
      "First derivative estimate= 99.50330853167877 error= 0.4966914683212309\n",
      "First derivative estimate= 100.33534773107577 error= 0.3353477310757711\n",
      "First derivative estimate= 100.00333353334945 error= 0.003333533349447748\n",
      "Second derivative exact= -10000.0\n",
      "Second derivative estimate= -10050.335853502012 error= 50.33585350201247\n",
      "Second derivative estimate= -10000.500033413573 error= 0.5000334135729645\n"
     ]
    }
   ],
   "source": [
    "f=lambda x: np.log(x)\n",
    "x0=0.01\n",
    "print('First derivative exact=', 1/x0)\n",
    "print('First derivative estimate=',df_2p(f,x0,h=0.001),'error=',np.abs(df_2p(f,x0,h=0.001)-1/x0))\n",
    "print('First derivative estimate=',df_2p(f,x0,h=0.0001),'error=',np.abs(df_2p(f,x0,h=0.0001)-1/x0))\n",
    "print('First derivative estimate=',df_3p(f,x0,h=0.001),'error=',np.abs(df_3p(f,x0,h=0.001)-1/x0))\n",
    "print('First derivative estimate=',df_3p(f,x0,h=0.0001),'error=',np.abs(df_3p(f,x0,h=0.0001)-1/x0))\n",
    "print('Second derivative exact=', -1/x0**2)\n",
    "print('Second derivative estimate=',d2f_3p(f,x0,h=0.001),'error=',np.abs(d2f_3p(f,x0,h=0.001)+1/x0**2))\n",
    "print('Second derivative estimate=',d2f_3p(f,x0,h=0.0001),'error=',np.abs(d2f_3p(f,x0,h=0.0001)+1/x0**2))\n"
   ]
  },
  {
   "cell_type": "code",
   "execution_count": null,
   "metadata": {},
   "outputs": [],
   "source": []
  },
  {
   "cell_type": "code",
   "execution_count": null,
   "metadata": {},
   "outputs": [],
   "source": []
  }
 ],
 "metadata": {
  "kernelspec": {
   "display_name": "Python 3",
   "language": "python",
   "name": "python3"
  },
  "language_info": {
   "codemirror_mode": {
    "name": "ipython",
    "version": 3
   },
   "file_extension": ".py",
   "mimetype": "text/x-python",
   "name": "python",
   "nbconvert_exporter": "python",
   "pygments_lexer": "ipython3",
   "version": "3.8.5"
  }
 },
 "nbformat": 4,
 "nbformat_minor": 4
}
