{
 "cells": [
  {
   "cell_type": "code",
   "execution_count": 1,
   "metadata": {},
   "outputs": [],
   "source": [
    "import numpy as np"
   ]
  },
  {
   "cell_type": "code",
   "execution_count": 2,
   "metadata": {},
   "outputs": [],
   "source": [
    "# Power iteration to find dominant eigenvalue and eigenvector\n",
    "# Input:  A=matrix, x0=initial vector, k=number of steps\n",
    "# Output: lambda_max=dominant eigenvalue, v_max=dominant eigenvector\n",
    "def powerit(A,x0,k):\n",
    "    x=x0\n",
    "    for j in range(k):\n",
    "        u=((np.dot(x,x))**(-0.5))*x #u is a unit vector\n",
    "        x=A.dot(u)\n",
    "        lambda_j=u.dot(x) #Rayleigh quotient\n",
    "    lambda_max=lambda_j\n",
    "    v_max=(np.dot(x,x)**(-0.5))*x\n",
    "    return lambda_max, v_max"
   ]
  },
  {
   "cell_type": "code",
   "execution_count": 3,
   "metadata": {},
   "outputs": [
    {
     "name": "stdout",
     "output_type": "stream",
     "text": [
      "3.99999999998181 [0.70710678 0.70710678]\n"
     ]
    }
   ],
   "source": [
    "A=np.array([[1,3],[2,2]])\n",
    "x0=np.array([-5,5])\n",
    "k=20\n",
    "lambda_max,v_max=powerit(A,x0,k)\n",
    "print(lambda_max,v_max)"
   ]
  },
  {
   "cell_type": "code",
   "execution_count": 13,
   "metadata": {},
   "outputs": [
    {
     "name": "stdout",
     "output_type": "stream",
     "text": [
      "[[ 1  0  0  0  0  0  0  0  0  0  0  0  0  0  0  0  0  0  0  0]\n",
      " [ 0  2  0  0  0  0  0  0  0  0  0  0  0  0  0  0  0  0  0  0]\n",
      " [ 0  0  3  0  0  0  0  0  0  0  0  0  0  0  0  0  0  0  0  0]\n",
      " [ 0  0  0  4  0  0  0  0  0  0  0  0  0  0  0  0  0  0  0  0]\n",
      " [ 0  0  0  0  5  0  0  0  0  0  0  0  0  0  0  0  0  0  0  0]\n",
      " [ 0  0  0  0  0  6  0  0  0  0  0  0  0  0  0  0  0  0  0  0]\n",
      " [ 0  0  0  0  0  0  7  0  0  0  0  0  0  0  0  0  0  0  0  0]\n",
      " [ 0  0  0  0  0  0  0  8  0  0  0  0  0  0  0  0  0  0  0  0]\n",
      " [ 0  0  0  0  0  0  0  0  9  0  0  0  0  0  0  0  0  0  0  0]\n",
      " [ 0  0  0  0  0  0  0  0  0 10  0  0  0  0  0  0  0  0  0  0]\n",
      " [ 0  0  0  0  0  0  0  0  0  0 11  0  0  0  0  0  0  0  0  0]\n",
      " [ 0  0  0  0  0  0  0  0  0  0  0 12  0  0  0  0  0  0  0  0]\n",
      " [ 0  0  0  0  0  0  0  0  0  0  0  0 13  0  0  0  0  0  0  0]\n",
      " [ 0  0  0  0  0  0  0  0  0  0  0  0  0 14  0  0  0  0  0  0]\n",
      " [ 0  0  0  0  0  0  0  0  0  0  0  0  0  0 15  0  0  0  0  0]\n",
      " [ 0  0  0  0  0  0  0  0  0  0  0  0  0  0  0 16  0  0  0  0]\n",
      " [ 0  0  0  0  0  0  0  0  0  0  0  0  0  0  0  0 17  0  0  0]\n",
      " [ 0  0  0  0  0  0  0  0  0  0  0  0  0  0  0  0  0 18  0  0]\n",
      " [ 0  0  0  0  0  0  0  0  0  0  0  0  0  0  0  0  0  0 19  0]\n",
      " [ 0  0  0  0  0  0  0  0  0  0  0  0  0  0  0  0  0  0  0 20]]\n",
      "20.0 [0.00000000e+000 0.00000000e+000 0.00000000e+000 0.00000000e+000\n",
      " 9.33263619e-302 3.63602918e-262 1.08148917e-228 1.07150861e-199\n",
      " 4.03884222e-174 3.05493636e-151 1.51825509e-130 1.19021438e-111\n",
      " 2.86205728e-094 3.54013649e-078 3.39337375e-063 3.50746621e-049\n",
      " 5.12227460e-036 1.32207082e-023 7.27449156e-012 1.00000000e+000]\n"
     ]
    }
   ],
   "source": [
    "# Matrix whose characteristic polynomial is the Wilkinson polynomial\n",
    "w=np.array(range(1,21))\n",
    "W=np.diag(w)\n",
    "print(W)\n",
    "y0=np.ones(20)\n",
    "k=500\n",
    "lambda_max,v_max=powerit(W,y0,k)\n",
    "print(lambda_max,v_max)"
   ]
  },
  {
   "cell_type": "code",
   "execution_count": null,
   "metadata": {},
   "outputs": [],
   "source": []
  }
 ],
 "metadata": {
  "kernelspec": {
   "display_name": "Python 3",
   "language": "python",
   "name": "python3"
  },
  "language_info": {
   "codemirror_mode": {
    "name": "ipython",
    "version": 3
   },
   "file_extension": ".py",
   "mimetype": "text/x-python",
   "name": "python",
   "nbconvert_exporter": "python",
   "pygments_lexer": "ipython3",
   "version": "3.8.5"
  }
 },
 "nbformat": 4,
 "nbformat_minor": 4
}
