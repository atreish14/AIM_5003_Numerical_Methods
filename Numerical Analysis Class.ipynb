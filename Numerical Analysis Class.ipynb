{
 "cells": [
  {
   "cell_type": "markdown",
   "metadata": {},
   "source": [
    "# Numerical Analysis"
   ]
  },
  {
   "cell_type": "code",
   "execution_count": 16,
   "metadata": {},
   "outputs": [],
   "source": [
    "import math\n",
    "import numpy as np\n",
    "import pandas as pd\n",
    "import matplotlib.pyplot as plt"
   ]
  },
  {
   "cell_type": "code",
   "execution_count": 1,
   "metadata": {},
   "outputs": [],
   "source": [
    "import struct"
   ]
  },
  {
   "cell_type": "code",
   "execution_count": 41,
   "metadata": {},
   "outputs": [],
   "source": [
    "from scipy.stats import distributions"
   ]
  },
  {
   "cell_type": "markdown",
   "metadata": {},
   "source": [
    "# Module 1"
   ]
  },
  {
   "cell_type": "code",
   "execution_count": 2,
   "metadata": {},
   "outputs": [
    {
     "data": {
      "text/plain": [
       "'0100000000100100110000000000000000000000000000000000000000000000'"
      ]
     },
     "execution_count": 2,
     "metadata": {},
     "output_type": "execute_result"
    }
   ],
   "source": [
    "#This function transforms a base ten number into binare i.e. base 2 in 64 bit\n",
    "def float2bin(f):\n",
    "    (d,) = struct.unpack(\">Q\", struct.pack(\">d\", f)) \n",
    "    return f'{d:064b}'\n",
    "\n",
    "float2bin(10.375)"
   ]
  },
  {
   "cell_type": "code",
   "execution_count": 1,
   "metadata": {},
   "outputs": [
    {
     "ename": "ValueError",
     "evalue": "invalid literal for int() with base 2: '.10110'",
     "output_type": "error",
     "traceback": [
      "\u001b[0;31m---------------------------------------------------------------------------\u001b[0m",
      "\u001b[0;31mValueError\u001b[0m                                Traceback (most recent call last)",
      "\u001b[0;32m<ipython-input-1-10aa397d50e9>\u001b[0m in \u001b[0;36m<module>\u001b[0;34m\u001b[0m\n\u001b[0;32m----> 1\u001b[0;31m \u001b[0mint\u001b[0m\u001b[0;34m(\u001b[0m\u001b[0;34m'.10110'\u001b[0m\u001b[0;34m,\u001b[0m \u001b[0;36m2\u001b[0m\u001b[0;34m)\u001b[0m\u001b[0;34m\u001b[0m\u001b[0;34m\u001b[0m\u001b[0m\n\u001b[0m",
      "\u001b[0;31mValueError\u001b[0m: invalid literal for int() with base 2: '.10110'"
     ]
    }
   ],
   "source": [
    "int('.10110', 2)"
   ]
  },
  {
   "cell_type": "code",
   "execution_count": 3,
   "metadata": {},
   "outputs": [
    {
     "name": "stdout",
     "output_type": "stream",
     "text": [
      "x1= 0.0\n",
      "x2= -282429536481.0\n",
      "x1prime= 1.062211848441645e-11\n"
     ]
    }
   ],
   "source": [
    "#Loss of Significance\n",
    "a=1\n",
    "b=9**12\n",
    "c=-3\n",
    "x1=(-b+(b**2-4*a*c)**(0.5))*0.5\n",
    "x2=(-b-(b**2-4*a*c)**(0.5))*0.5\n",
    "print(\"x1=\", x1)\n",
    "print(\"x2=\", x2)\n",
    "x1prime=(-2*c)/(b+(b**2-4*a*c)**(0.5))\n",
    "print(\"x1prime=\",x1prime)"
   ]
  },
  {
   "cell_type": "code",
   "execution_count": 17,
   "metadata": {},
   "outputs": [
    {
     "name": "stdout",
     "output_type": "stream",
     "text": [
      "y= 0.0\n",
      "yprime= 5.0000000000000005e-17\n"
     ]
    }
   ],
   "source": [
    "x=10**(-8)\n",
    "y=1-math.cos(x)\n",
    "print(\"y=\",y)\n",
    "yprime=math.sin(x)**2/(1+math.cos(x))\n",
    "print(\"yprime=\",yprime)\n",
    "y= 0.0\n",
    "yprime= 5.0000000000000005e-17"
   ]
  },
  {
   "cell_type": "code",
   "execution_count": 6,
   "metadata": {},
   "outputs": [
    {
     "data": {
      "text/plain": [
       "array([0, 1, 2, 3, 4, 5, 6, 7, 8, 9])"
      ]
     },
     "execution_count": 6,
     "metadata": {},
     "output_type": "execute_result"
    }
   ],
   "source": [
    "x = np.arange(10)\n",
    "x"
   ]
  },
  {
   "cell_type": "code",
   "execution_count": 7,
   "metadata": {},
   "outputs": [
    {
     "data": {
      "text/plain": [
       "array([ 0.        ,  0.84147098,  0.90929743,  0.14112001, -0.7568025 ,\n",
       "       -0.95892427, -0.2794155 ,  0.6569866 ,  0.98935825,  0.41211849])"
      ]
     },
     "execution_count": 7,
     "metadata": {},
     "output_type": "execute_result"
    }
   ],
   "source": [
    "np.sin(x)"
   ]
  },
  {
   "cell_type": "code",
   "execution_count": 10,
   "metadata": {},
   "outputs": [
    {
     "data": {
      "text/plain": [
       "array([[1, 1, 1],\n",
       "       [1, 1, 1],\n",
       "       [1, 1, 1]])"
      ]
     },
     "execution_count": 10,
     "metadata": {},
     "output_type": "execute_result"
    }
   ],
   "source": [
    "x = np.ones((3, 3),dtype=int) #change the datatype to integers\n",
    "x"
   ]
  },
  {
   "cell_type": "code",
   "execution_count": 13,
   "metadata": {},
   "outputs": [
    {
     "data": {
      "text/plain": [
       "array([0, 1, 2])"
      ]
     },
     "execution_count": 13,
     "metadata": {},
     "output_type": "execute_result"
    }
   ],
   "source": [
    "y = np.arange(3)\n",
    "y"
   ]
  },
  {
   "cell_type": "code",
   "execution_count": 12,
   "metadata": {},
   "outputs": [
    {
     "data": {
      "text/plain": [
       "array([[1, 2, 3],\n",
       "       [1, 2, 3],\n",
       "       [1, 2, 3]])"
      ]
     },
     "execution_count": 12,
     "metadata": {},
     "output_type": "execute_result"
    }
   ],
   "source": [
    "x+y"
   ]
  },
  {
   "cell_type": "code",
   "execution_count": 15,
   "metadata": {},
   "outputs": [
    {
     "data": {
      "text/plain": [
       "array([[0, 1, 2],\n",
       "       [1, 2, 3],\n",
       "       [2, 3, 4]])"
      ]
     },
     "execution_count": 15,
     "metadata": {},
     "output_type": "execute_result"
    }
   ],
   "source": [
    "np.arange(3).reshape((3, 1)) + np.arange(3)"
   ]
  },
  {
   "cell_type": "code",
   "execution_count": 20,
   "metadata": {},
   "outputs": [
    {
     "data": {
      "text/plain": [
       "Text(0.5, 1.0, 'Simple Sinusoid Plot')"
      ]
     },
     "execution_count": 20,
     "metadata": {},
     "output_type": "execute_result"
    },
    {
     "data": {
      "image/png": "[encoded data removed]",
      "text/plain": [
       "<Figure size 432x288 with 1 Axes>"
      ]
     },
     "metadata": {
      "needs_background": "light"
     },
     "output_type": "display_data"
    }
   ],
   "source": [
    "x = np.linspace(0, 2 * np.pi, 1000) # 1000 values from 0 to 2pi\n",
    "y = np.sin(x)\n",
    "ax = plt.axes()\n",
    "ax.plot(x, y)\n",
    "ax.set_xlim(0, 2 * np.pi) # set x limits \n",
    "ax.set_ylim(-1.3, 1.3) # set y limits\n",
    "ax.set_xlabel('x')\n",
    "ax.set_ylabel('y')\n",
    "ax.set_title('Simple Sinusoid Plot')"
   ]
  },
  {
   "cell_type": "code",
   "execution_count": 22,
   "metadata": {},
   "outputs": [
    {
     "data": {
      "text/plain": [
       "<ErrorbarContainer object of 3 artists>"
      ]
     },
     "execution_count": 22,
     "metadata": {},
     "output_type": "execute_result"
    },
    {
     "data": {
      "image/png": "[encoded data removed]",
      "text/plain": [
       "<Figure size 432x288 with 1 Axes>"
      ]
     },
     "metadata": {
      "needs_background": "light"
     },
     "output_type": "display_data"
    }
   ],
   "source": [
    "x = np.linspace(0, 2 * np.pi, 1000) # 1000 values from 0 to 2pi\n",
    "y = np.sin(x)\n",
    "ax = plt.axes()\n",
    "ax.plot(x, y)\n",
    "ax.set_xlim(0, 2 * np.pi) # set x limits \n",
    "ax.set_ylim(-1.3, 1.3) # set y limits\n",
    "ax.set_xlabel('x')\n",
    "ax.set_ylabel('y')\n",
    "ax.set_title('Simple Sinusoid Plot')\n",
    "x_obs = 2 * np.pi * np.random.random(50)\n",
    "y_obs = np.sin(x_obs)\n",
    "y_obs += np.random.normal(0, 0.1, 50) # add some error\n",
    "ax.errorbar(x_obs, y_obs, 0.1, fmt='.', color='black')"
   ]
  },
  {
   "cell_type": "code",
   "execution_count": 26,
   "metadata": {},
   "outputs": [
    {
     "data": {
      "text/plain": [
       "Text(0, 0.5, 'N(x)')"
      ]
     },
     "execution_count": 26,
     "metadata": {},
     "output_type": "execute_result"
    },
    {
     "data": {
      "image/png": "[encoded data removed]",
      "text/plain": [
       "<Figure size 432x288 with 1 Axes>"
      ]
     },
     "metadata": {
      "needs_background": "light"
     },
     "output_type": "display_data"
    }
   ],
   "source": [
    "#Histogram\n",
    "fig = plt.figure() # create a new figure window\n",
    "ax = plt.axes() # create a new axes \n",
    "x = np.random.normal(size=1000)\n",
    "ax.hist(x, bins=50)\n",
    "ax.set_xlabel('x')\n",
    "ax.set_ylabel('N(x)')"
   ]
  },
  {
   "cell_type": "code",
   "execution_count": 27,
   "metadata": {},
   "outputs": [
    {
     "data": {
      "text/plain": [
       "array([0.5488135 , 0.71518937, 0.60276338, 0.54488318])"
      ]
     },
     "execution_count": 27,
     "metadata": {},
     "output_type": "execute_result"
    }
   ],
   "source": [
    "np.random.seed(0)\n",
    "np.random.random(4) #random between 0 and 1"
   ]
  },
  {
   "cell_type": "code",
   "execution_count": 36,
   "metadata": {},
   "outputs": [
    {
     "data": {
      "text/plain": [
       "array([-0.20035348, -1.71404612,  0.49364409,  0.48701533, -0.8391294 ,\n",
       "        0.99012138, -1.36475823, -0.02186991, -0.27120734, -1.31717479,\n",
       "        0.18970261,  1.70257015,  0.06763423, -0.46302175,  0.44702416,\n",
       "        0.10572   ,  0.02776213, -0.42554221,  1.42197556,  0.45636336,\n",
       "       -0.52867066, -0.10800384, -0.7408667 , -0.60829115, -0.64072572,\n",
       "       -1.13431159,  0.77727696, -0.29104146,  0.55412758, -0.6701259 ,\n",
       "       -0.06036249, -0.7110406 ,  0.71966817, -0.24841931, -0.73087359,\n",
       "       -1.64170323,  0.27566655, -0.70838505, -0.01577922, -0.49173011])"
      ]
     },
     "execution_count": 36,
     "metadata": {},
     "output_type": "execute_result"
    }
   ],
   "source": [
    "h = np.random.normal(loc=0, scale=1, size=40) #standard normal\n",
    "h"
   ]
  },
  {
   "cell_type": "code",
   "execution_count": 40,
   "metadata": {},
   "outputs": [
    {
     "data": {
      "text/plain": [
       "array([4, 4, 4, 4, 5, 6, 8, 4, 4, 7, 7, 4, 5, 7, 4, 9, 5, 9, 1, 4, 0, 1,\n",
       "       3, 9, 2, 0, 7, 2, 9, 0, 1, 8, 1, 1, 5, 9, 6, 6, 8, 1, 5, 9, 5, 6,\n",
       "       9, 0, 3, 7, 2, 9, 0, 9, 9, 9, 7, 7, 6, 7, 0, 6, 0, 2, 6, 8, 8, 6,\n",
       "       3, 2, 3, 1, 4, 0, 8, 2, 6, 7, 7, 8, 0, 2, 1, 6, 3, 6, 7, 9, 4, 0,\n",
       "       8, 2, 3, 2, 8, 0, 6, 6, 9, 5, 9, 7])"
      ]
     },
     "execution_count": 40,
     "metadata": {},
     "output_type": "execute_result"
    }
   ],
   "source": [
    "np.random.randint(low=0, high=10, size=100) #random integers"
   ]
  },
  {
   "cell_type": "code",
   "execution_count": 46,
   "metadata": {},
   "outputs": [
    {
     "data": {
      "text/plain": [
       "array([14,  8,  8,  8,  8, 10,  8, 13, 11, 14, 15, 10, 10, 10, 10, 16,  7,\n",
       "        9, 21, 16,  8,  9, 11, 10,  9, 11, 20,  7, 13, 16,  6,  9,  9, 11,\n",
       "       12,  5,  8,  9,  6,  7, 13,  7, 11,  6])"
      ]
     },
     "execution_count": 46,
     "metadata": {},
     "output_type": "execute_result"
    }
   ],
   "source": [
    "k = distributions.poisson.rvs(10, size=44) #poission object μ = 10\n",
    "k"
   ]
  },
  {
   "cell_type": "code",
   "execution_count": 50,
   "metadata": {},
   "outputs": [
    {
     "data": {
      "text/plain": [
       "[<matplotlib.lines.Line2D at 0x7fe27f9cf510>]"
      ]
     },
     "execution_count": 50,
     "metadata": {},
     "output_type": "execute_result"
    },
    {
     "data": {
      "image/png": "[encoded data removed]",
      "text/plain": [
       "<Figure size 432x288 with 1 Axes>"
      ]
     },
     "metadata": {
      "needs_background": "light"
     },
     "output_type": "display_data"
    }
   ],
   "source": [
    "plt.plot(k)"
   ]
  },
  {
   "cell_type": "code",
   "execution_count": 51,
   "metadata": {},
   "outputs": [
    {
     "data": {
      "text/plain": [
       "array([13,  8,  8, 12,  8, 15,  5, 11, 13, 11, 13, 11, 12,  6, 14,  3, 11,\n",
       "       11, 11,  8, 13, 10, 13, 12, 12,  9,  7, 10, 18,  8, 14,  5, 12, 12,\n",
       "       11,  9,  8,  9,  9,  6, 14,  4, 15,  5])"
      ]
     },
     "execution_count": 51,
     "metadata": {},
     "output_type": "execute_result"
    }
   ],
   "source": [
    "l = distributions.poisson.rvs(10, size=44)\n",
    "l"
   ]
  },
  {
   "cell_type": "code",
   "execution_count": 52,
   "metadata": {},
   "outputs": [
    {
     "data": {
      "text/plain": [
       "<matplotlib.collections.PathCollection at 0x7fe27f9d98d0>"
      ]
     },
     "execution_count": 52,
     "metadata": {},
     "output_type": "execute_result"
    },
    {
     "data": {
      "image/png": "[encoded data removed]",
      "text/plain": [
       "<Figure size 432x288 with 1 Axes>"
      ]
     },
     "metadata": {
      "needs_background": "light"
     },
     "output_type": "display_data"
    }
   ],
   "source": [
    "plt.scatter(l,k)"
   ]
  },
  {
   "cell_type": "markdown",
   "metadata": {},
   "source": [
    "The distribution objects in scipy.stats offer much more than just random number generation: they contain tools to compute the probability density, the cumulative probability density, the mean, median, standard deviation, nth moments, and much more."
   ]
  },
  {
   "cell_type": "markdown",
   "metadata": {},
   "source": [
    "# Linear Algebra"
   ]
  },
  {
   "cell_type": "code",
   "execution_count": 55,
   "metadata": {},
   "outputs": [
    {
     "data": {
      "text/plain": [
       "array([[0, 1, 2],\n",
       "       [3, 4, 5],\n",
       "       [6, 7, 8]])"
      ]
     },
     "execution_count": 55,
     "metadata": {},
     "output_type": "execute_result"
    }
   ],
   "source": [
    "M = np.arange(9).reshape((3, 3))\n",
    "M"
   ]
  },
  {
   "cell_type": "code",
   "execution_count": 57,
   "metadata": {},
   "outputs": [
    {
     "data": {
      "text/plain": [
       "array([45, 46, 47])"
      ]
     },
     "execution_count": 57,
     "metadata": {},
     "output_type": "execute_result"
    }
   ],
   "source": [
    "x = np.arange(45,48)\n",
    "x"
   ]
  },
  {
   "cell_type": "code",
   "execution_count": 59,
   "metadata": {},
   "outputs": [
    {
     "data": {
      "text/plain": [
       "array([140, 554, 968])"
      ]
     },
     "execution_count": 59,
     "metadata": {},
     "output_type": "execute_result"
    }
   ],
   "source": [
    "np.dot(M, x) #many more operations in NumPy and SciPy"
   ]
  },
  {
   "cell_type": "markdown",
   "metadata": {},
   "source": [
    "Numerical Integration"
   ]
  },
  {
   "cell_type": "code",
   "execution_count": 60,
   "metadata": {},
   "outputs": [],
   "source": [
    "from scipy import integrate"
   ]
  },
  {
   "cell_type": "code",
   "execution_count": 63,
   "metadata": {},
   "outputs": [
    {
     "data": {
      "text/plain": [
       "(2.0, 2.220446049250313e-14)"
      ]
     },
     "execution_count": 63,
     "metadata": {},
     "output_type": "execute_result"
    }
   ],
   "source": [
    "#to integrate the function sin x from 0 to π:\n",
    "result, error = integrate.quad(np.sin, 0, np.pi)\n",
    "result, error\n",
    "\n",
    "#The integrators accept any function of one variable as the first argument, even one defined by the user. Other\n",
    "#integration options (including double and triple integration) are also available."
   ]
  },
  {
   "cell_type": "markdown",
   "metadata": {},
   "source": [
    "Numerical optimization (i.e., function minimization)"
   ]
  },
  {
   "cell_type": "code",
   "execution_count": 64,
   "metadata": {},
   "outputs": [],
   "source": [
    "from scipy import optimize"
   ]
  },
  {
   "cell_type": "code",
   "execution_count": 65,
   "metadata": {},
   "outputs": [],
   "source": [
    "#define function\n",
    "def simple_quadratic(x):\n",
    "    return x ** 2 + x"
   ]
  },
  {
   "cell_type": "code",
   "execution_count": 66,
   "metadata": {},
   "outputs": [
    {
     "name": "stdout",
     "output_type": "stream",
     "text": [
      "Optimization terminated successfully.\n",
      "         Current function value: -0.250000\n",
      "         Iterations: 24\n",
      "         Function evaluations: 48\n"
     ]
    },
    {
     "data": {
      "text/plain": [
       "array([-0.50003052])"
      ]
     },
     "execution_count": 66,
     "metadata": {},
     "output_type": "execute_result"
    }
   ],
   "source": [
    "optimize.fmin(simple_quadratic , x0=100)"
   ]
  },
  {
   "cell_type": "markdown",
   "metadata": {},
   "source": [
    "Interpolation"
   ]
  },
  {
   "cell_type": "code",
   "execution_count": 67,
   "metadata": {},
   "outputs": [],
   "source": [
    "from scipy import interpolate"
   ]
  },
  {
   "cell_type": "code",
   "execution_count": 69,
   "metadata": {},
   "outputs": [
    {
     "data": {
      "text/plain": [
       "array([ 0.        ,  0.55172414,  1.10344828,  1.65517241,  2.20689655,\n",
       "        2.75862069,  3.31034483,  3.86206897,  4.4137931 ,  4.96551724,\n",
       "        5.51724138,  6.06896552,  6.62068966,  7.17241379,  7.72413793,\n",
       "        8.27586207,  8.82758621,  9.37931034,  9.93103448, 10.48275862,\n",
       "       11.03448276, 11.5862069 , 12.13793103, 12.68965517, 13.24137931,\n",
       "       13.79310345, 14.34482759, 14.89655172, 15.44827586, 16.        ])"
      ]
     },
     "execution_count": 69,
     "metadata": {},
     "output_type": "execute_result"
    }
   ],
   "source": [
    "x = np. linspace(0, 16, 30)\n",
    "x"
   ]
  },
  {
   "cell_type": "code",
   "execution_count": 71,
   "metadata": {},
   "outputs": [
    {
     "data": {
      "text/plain": [
       "array([ 0.        ,  0.52415632,  0.89276618,  0.99644245,  0.80441858,\n",
       "        0.37367879, -0.16795238, -0.65974269, -0.95575049, -0.96813374,\n",
       "       -0.69321762, -0.21258512,  0.33113327,  0.77658592,  0.99158214,\n",
       "        0.91232056,  0.5623225 ,  0.04545195, -0.48490673, -0.87136651,\n",
       "       -0.99924316, -0.83058855, -0.41545193,  0.12297249,  0.62490411,\n",
       "        0.94139176,  0.9785159 ,  0.72525971,  0.25677845, -0.28790332])"
      ]
     },
     "execution_count": 71,
     "metadata": {},
     "output_type": "execute_result"
    }
   ],
   "source": [
    "y = np.sin(x)\n",
    "y"
   ]
  },
  {
   "cell_type": "code",
   "execution_count": 72,
   "metadata": {},
   "outputs": [
    {
     "data": {
      "text/plain": [
       "[<matplotlib.lines.Line2D at 0x7fe27f8ed7d0>]"
      ]
     },
     "execution_count": 72,
     "metadata": {},
     "output_type": "execute_result"
    },
    {
     "data": {
      "image/png": "[encoded data removed]",
      "text/plain": [
       "<Figure size 432x288 with 1 Axes>"
      ]
     },
     "metadata": {
      "needs_background": "light"
     },
     "output_type": "display_data"
    }
   ],
   "source": [
    "x2 = np.linspace(0, 16, 1000)\n",
    "spl = interpolate.UnivariateSpline(x, y, s=0)\n",
    "ax = plt.axes()\n",
    "ax.plot(x, y, 'o') # 'o' means draw pointsas circles\n",
    "ax.plot(x2, spl(x2), '-')"
   ]
  },
  {
   "cell_type": "markdown",
   "metadata": {},
   "source": [
    "# Data Structures"
   ]
  },
  {
   "cell_type": "code",
   "execution_count": 74,
   "metadata": {},
   "outputs": [
    {
     "name": "stdout",
     "output_type": "stream",
     "text": [
      "255 ms ± 35.9 ms per loop (mean ± std. dev. of 7 runs, 1 loop each)\n"
     ]
    }
   ],
   "source": [
    "L = range(10000000)\n",
    "%timeit sum(L)"
   ]
  },
  {
   "cell_type": "code",
   "execution_count": 75,
   "metadata": {},
   "outputs": [
    {
     "name": "stdout",
     "output_type": "stream",
     "text": [
      "1.92 s ± 71.9 ms per loop (mean ± std. dev. of 7 runs, 1 loop each)\n"
     ]
    }
   ],
   "source": [
    "x = np.array(L, dtype=float)\n",
    "%timeit sum(x)"
   ]
  },
  {
   "cell_type": "markdown",
   "metadata": {},
   "source": [
    "Loops"
   ]
  },
  {
   "cell_type": "code",
   "execution_count": 76,
   "metadata": {},
   "outputs": [],
   "source": [
    "x = np.random.random(1000000)"
   ]
  },
  {
   "cell_type": "code",
   "execution_count": 79,
   "metadata": {},
   "outputs": [],
   "source": [
    "def loop_add_one (x):\n",
    "    for i in range(len(x)):\n",
    "        x[i] += 1"
   ]
  },
  {
   "cell_type": "code",
   "execution_count": 82,
   "metadata": {},
   "outputs": [],
   "source": [
    "loop_add_one(x)"
   ]
  },
  {
   "cell_type": "markdown",
   "metadata": {},
   "source": [
    "# Module 2"
   ]
  },
  {
   "cell_type": "markdown",
   "metadata": {},
   "source": [
    "# Bisection Method"
   ]
  },
  {
   "cell_type": "code",
   "execution_count": 1,
   "metadata": {},
   "outputs": [],
   "source": [
    "import math\n",
    "import numpy as np"
   ]
  },
  {
   "cell_type": "code",
   "execution_count": 20,
   "metadata": {},
   "outputs": [],
   "source": [
    "def bisection(f, a, b, TOL):\n",
    "    if np.sign(f(a))*np.sign(f(b)) > 0:\n",
    "        print('f(a)f(b)<0 not satisfied') # stop execution\n",
    "        return \n",
    "    n=1\n",
    "    fa= f(a)\n",
    "    fb= f(b)\n",
    "    while np.abs(a-b)>TOL:\n",
    "        c = (a+b)/2\n",
    "        fc=f(c)\n",
    "        n=n+1\n",
    "        if np.isclose(f(c), 0):\n",
    "            print('Approximate root', c, 'has been obtained in', n, 'steps')\n",
    "            return\n",
    "        if np.sign(fc)*np.sign(fa)<0:\n",
    "            b=c\n",
    "            fb=fc \n",
    "        else:\n",
    "            a=c\n",
    "            fa= fc \n",
    "            c=(a+b)/2\n",
    "            print('The final interval [', a, b,'] contains a root') \n",
    "            print('Approximate root', c, 'has been obtained in', n, 'steps')"
   ]
  },
  {
   "cell_type": "code",
   "execution_count": 21,
   "metadata": {},
   "outputs": [],
   "source": [
    "def f(x):\n",
    "    return x**3+x-1"
   ]
  },
  {
   "cell_type": "code",
   "execution_count": 22,
   "metadata": {},
   "outputs": [
    {
     "name": "stdout",
     "output_type": "stream",
     "text": [
      "The final interval [ 0.5 1 ] contains a root\n",
      "Approximate root 0.75 has been obtained in 2 steps\n",
      "The final interval [ 0.625 0.75 ] contains a root\n",
      "Approximate root 0.6875 has been obtained in 4 steps\n",
      "The final interval [ 0.65625 0.6875 ] contains a root\n",
      "Approximate root 0.671875 has been obtained in 6 steps\n",
      "The final interval [ 0.671875 0.6875 ] contains a root\n",
      "Approximate root 0.6796875 has been obtained in 7 steps\n",
      "The final interval [ 0.6796875 0.6875 ] contains a root\n",
      "Approximate root 0.68359375 has been obtained in 8 steps\n",
      "The final interval [ 0.681640625 0.68359375 ] contains a root\n",
      "Approximate root 0.6826171875 has been obtained in 10 steps\n",
      "The final interval [ 0.68212890625 0.6826171875 ] contains a root\n",
      "Approximate root 0.682373046875 has been obtained in 12 steps\n"
     ]
    }
   ],
   "source": [
    "bisection(f,0,1,0.0005)"
   ]
  },
  {
   "cell_type": "code",
   "execution_count": 24,
   "metadata": {},
   "outputs": [
    {
     "name": "stdout",
     "output_type": "stream",
     "text": [
      "f(a)f(b)<0 not satisfied\n"
     ]
    }
   ],
   "source": [
    "bisection(f,-1,0,1)"
   ]
  },
  {
   "cell_type": "code",
   "execution_count": 25,
   "metadata": {},
   "outputs": [
    {
     "name": "stdout",
     "output_type": "stream",
     "text": [
      "f(a)f(b)<0 not satisfied\n"
     ]
    }
   ],
   "source": [
    "bisection(f,-1,0,.5)"
   ]
  },
  {
   "cell_type": "code",
   "execution_count": 26,
   "metadata": {},
   "outputs": [
    {
     "name": "stdout",
     "output_type": "stream",
     "text": [
      "f(a)f(b)<0 not satisfied\n"
     ]
    }
   ],
   "source": [
    "bisection(f,-1,0,1e-15)"
   ]
  },
  {
   "cell_type": "code",
   "execution_count": 29,
   "metadata": {},
   "outputs": [],
   "source": [
    "bisection(f,0,1,1)"
   ]
  },
  {
   "cell_type": "code",
   "execution_count": 30,
   "metadata": {},
   "outputs": [
    {
     "name": "stdout",
     "output_type": "stream",
     "text": [
      "The final interval [ 0.5 1 ] contains a root\n",
      "Approximate root 0.75 has been obtained in 2 steps\n"
     ]
    }
   ],
   "source": [
    "bisection(f,0,1,.5)"
   ]
  },
  {
   "cell_type": "code",
   "execution_count": 31,
   "metadata": {},
   "outputs": [
    {
     "name": "stdout",
     "output_type": "stream",
     "text": [
      "The final interval [ 0.5 1 ] contains a root\n",
      "Approximate root 0.75 has been obtained in 2 steps\n",
      "The final interval [ 0.625 0.75 ] contains a root\n",
      "Approximate root 0.6875 has been obtained in 4 steps\n",
      "The final interval [ 0.65625 0.6875 ] contains a root\n",
      "Approximate root 0.671875 has been obtained in 6 steps\n",
      "The final interval [ 0.671875 0.6875 ] contains a root\n",
      "Approximate root 0.6796875 has been obtained in 7 steps\n",
      "The final interval [ 0.6796875 0.6875 ] contains a root\n",
      "Approximate root 0.68359375 has been obtained in 8 steps\n",
      "The final interval [ 0.681640625 0.68359375 ] contains a root\n",
      "Approximate root 0.6826171875 has been obtained in 10 steps\n",
      "The final interval [ 0.68212890625 0.6826171875 ] contains a root\n",
      "Approximate root 0.682373046875 has been obtained in 12 steps\n",
      "The final interval [ 0.6822509765625 0.682373046875 ] contains a root\n",
      "Approximate root 0.68231201171875 has been obtained in 14 steps\n",
      "The final interval [ 0.68231201171875 0.682373046875 ] contains a root\n",
      "Approximate root 0.682342529296875 has been obtained in 15 steps\n",
      "The final interval [ 0.6823272705078125 0.682342529296875 ] contains a root\n",
      "Approximate root 0.6823348999023438 has been obtained in 17 steps\n",
      "The final interval [ 0.6823277473449707 0.6823282241821289 ] contains a root\n",
      "Approximate root 0.6823279857635498 has been obtained in 22 steps\n",
      "Approximate root 0.6823278069496155 has been obtained in 25 steps\n"
     ]
    }
   ],
   "source": [
    "bisection(f,0,1,1e-15)"
   ]
  },
  {
   "cell_type": "code",
   "execution_count": 34,
   "metadata": {},
   "outputs": [],
   "source": [
    "def h(x):\n",
    "    return math.tan(x)"
   ]
  },
  {
   "cell_type": "code",
   "execution_count": 40,
   "metadata": {},
   "outputs": [
    {
     "name": "stdout",
     "output_type": "stream",
     "text": [
      "The final interval [ 1.5 2 ] contains a root\n",
      "Approximate root 1.75 has been obtained in 2 steps\n"
     ]
    }
   ],
   "source": [
    "bisection(h,1,2,.5)"
   ]
  },
  {
   "cell_type": "code",
   "execution_count": 37,
   "metadata": {},
   "outputs": [
    {
     "name": "stdout",
     "output_type": "stream",
     "text": [
      "The final interval [ 1.5 2 ] contains a root\n",
      "Approximate root 1.75 has been obtained in 2 steps\n",
      "The final interval [ 1.5625 1.625 ] contains a root\n",
      "Approximate root 1.59375 has been obtained in 5 steps\n",
      "The final interval [ 1.5703125 1.578125 ] contains a root\n",
      "Approximate root 1.57421875 has been obtained in 8 steps\n",
      "The final interval [ 1.570556640625 1.57080078125 ] contains a root\n",
      "Approximate root 1.5706787109375 has been obtained in 13 steps\n",
      "The final interval [ 1.5706787109375 1.57080078125 ] contains a root\n",
      "Approximate root 1.57073974609375 has been obtained in 14 steps\n",
      "The final interval [ 1.57073974609375 1.57080078125 ] contains a root\n",
      "Approximate root 1.570770263671875 has been obtained in 15 steps\n",
      "The final interval [ 1.570770263671875 1.57080078125 ] contains a root\n",
      "Approximate root 1.5707855224609375 has been obtained in 16 steps\n",
      "The final interval [ 1.5707855224609375 1.57080078125 ] contains a root\n",
      "Approximate root 1.5707931518554688 has been obtained in 17 steps\n",
      "The final interval [ 1.5707931518554688 1.57080078125 ] contains a root\n",
      "Approximate root 1.5707969665527344 has been obtained in 18 steps\n",
      "The final interval [ 1.5707950592041016 1.5707969665527344 ] contains a root\n",
      "Approximate root 1.570796012878418 has been obtained in 20 steps\n",
      "The final interval [ 1.570796012878418 1.5707969665527344 ] contains a root\n",
      "Approximate root 1.5707964897155762 has been obtained in 21 steps\n",
      "The final interval [ 1.570796251296997 1.5707964897155762 ] contains a root\n",
      "Approximate root 1.5707963705062866 has been obtained in 23 steps\n",
      "The final interval [ 1.5707963109016418 1.5707963705062866 ] contains a root\n",
      "Approximate root 1.5707963407039642 has been obtained in 25 steps\n",
      "The final interval [ 1.570796325802803 1.5707963407039642 ] contains a root\n",
      "Approximate root 1.5707963332533836 has been obtained in 27 steps\n",
      "The final interval [ 1.5707963267341256 1.5707963276654482 ] contains a root\n",
      "Approximate root 1.570796327199787 has been obtained in 31 steps\n",
      "The final interval [ 1.5707963267923333 1.570796326850541 ] contains a root\n",
      "Approximate root 1.570796326821437 has been obtained in 35 steps\n",
      "The final interval [ 1.5707963267941523 1.5707963267959713 ] contains a root\n",
      "Approximate root 1.5707963267950618 has been obtained in 40 steps\n",
      "The final interval [ 1.570796326794607 1.5707963267950618 ] contains a root\n",
      "Approximate root 1.5707963267948344 has been obtained in 42 steps\n",
      "The final interval [ 1.5707963267948344 1.5707963267950618 ] contains a root\n",
      "Approximate root 1.570796326794948 has been obtained in 43 steps\n",
      "The final interval [ 1.5707963267948912 1.570796326794948 ] contains a root\n",
      "Approximate root 1.5707963267949197 has been obtained in 45 steps\n",
      "The final interval [ 1.5707963267948948 1.5707963267948983 ] contains a root\n",
      "Approximate root 1.5707963267948966 has been obtained in 49 steps\n",
      "The final interval [ 1.5707963267948966 1.5707963267948983 ] contains a root\n",
      "Approximate root 1.5707963267948974 has been obtained in 50 steps\n"
     ]
    }
   ],
   "source": [
    "bisection(h,1,2,1e-15)"
   ]
  },
  {
   "cell_type": "code",
   "execution_count": 36,
   "metadata": {},
   "outputs": [],
   "source": []
  },
  {
   "cell_type": "code",
   "execution_count": null,
   "metadata": {},
   "outputs": [],
   "source": []
  },
  {
   "cell_type": "code",
   "execution_count": null,
   "metadata": {},
   "outputs": [],
   "source": []
  },
  {
   "cell_type": "code",
   "execution_count": null,
   "metadata": {},
   "outputs": [],
   "source": []
  }
 ],
 "metadata": {
  "kernelspec": {
   "display_name": "Python 3",
   "language": "python",
   "name": "python3"
  },
  "language_info": {
   "codemirror_mode": {
    "name": "ipython",
    "version": 3
   },
   "file_extension": ".py",
   "mimetype": "text/x-python",
   "name": "python",
   "nbconvert_exporter": "python",
   "pygments_lexer": "ipython3",
   "version": "3.7.4"
  }
 },
 "nbformat": 4,
 "nbformat_minor": 2
}
