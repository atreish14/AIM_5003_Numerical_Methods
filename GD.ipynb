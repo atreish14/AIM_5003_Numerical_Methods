{
 "cells": [
  {
   "cell_type": "code",
   "execution_count": 92,
   "metadata": {},
   "outputs": [],
   "source": [
    "import numpy as np"
   ]
  },
  {
   "cell_type": "code",
   "execution_count": 102,
   "metadata": {},
   "outputs": [],
   "source": [
    "# Simple gradient descent \n",
    "# Input: Df=gradient, x0=initial guess, N=maximal number of steps, eps=tolerance\n",
    "# Output: x=global minimum, steps=number of steps, norm of the gradient\n",
    "def GD(Df, x0, eta, N, eps):\n",
    "    x=x0\n",
    "    Gradf_norm =  np.linalg.norm(Df(x),ord=2) \n",
    "    steps = 0\n",
    "    while abs(Gradf_norm) > eps and steps < N:\n",
    "        Df_value = Df(x)\n",
    "        Gradf_norm =  np.linalg.norm(Df_value,ord=2) \n",
    "        x = x-eta*Df_value\n",
    "        #print('Gradf_norm =',Gradf_norm)\n",
    "        steps = steps + 1\n",
    "    # Either a solution is found, or too many iterations\n",
    "    if abs(Gradf_norm) > eps:\n",
    "        steps = -1\n",
    "    return x, steps, Gradf_norm"
   ]
  },
  {
   "cell_type": "code",
   "execution_count": 103,
   "metadata": {},
   "outputs": [],
   "source": [
    "def f(X):\n",
    "    return ((3/4.)*X[0]-(3/2.)*X[1])**2+(X[1]-2.)**2+(1/4.)*X[0]*X[1]"
   ]
  },
  {
   "cell_type": "code",
   "execution_count": 104,
   "metadata": {},
   "outputs": [],
   "source": [
    "def df(X):\n",
    "    return np.array([(9/8.)*X[0]-(9/4.)+(1/4.)*X[1],2*X[1]-4+(1/4.)*X[0]])"
   ]
  },
  {
   "cell_type": "code",
   "execution_count": 113,
   "metadata": {},
   "outputs": [
    {
     "name": "stdout",
     "output_type": "stream",
     "text": [
      "[2.60279622 1.91823724] -1 1.2743714889561149\n",
      "[1.60074575 1.7998021 ] 73 0.0009134804465735578\n",
      "[1.60063648 1.799831  ] 35 0.0008843752173965072\n",
      "[1.60058762 1.79984395] 22 0.0009431562125953087\n",
      "[1.60031109 1.79991739] 12 0.0007238918135476945\n",
      "[1.60005365 1.80020201] 16 0.000785555186449139\n"
     ]
    }
   ],
   "source": [
    "X0=np.array([5.,4.])\n",
    "for eta in [0.01, 0.1, 0.2, 0.3, 0.5, 0.75]:\n",
    "    x, steps, Gradf_norm=GD(df,X0, eta, N=100, eps=1.e-3)\n",
    "    print(x, steps, Gradf_norm)"
   ]
  },
  {
   "cell_type": "code",
   "execution_count": null,
   "metadata": {},
   "outputs": [],
   "source": []
  },
  {
   "cell_type": "code",
   "execution_count": null,
   "metadata": {},
   "outputs": [],
   "source": []
  },
  {
   "cell_type": "code",
   "execution_count": null,
   "metadata": {},
   "outputs": [],
   "source": []
  }
 ],
 "metadata": {
  "kernelspec": {
   "display_name": "Python 3",
   "language": "python",
   "name": "python3"
  },
  "language_info": {
   "codemirror_mode": {
    "name": "ipython",
    "version": 3
   },
   "file_extension": ".py",
   "mimetype": "text/x-python",
   "name": "python",
   "nbconvert_exporter": "python",
   "pygments_lexer": "ipython3",
   "version": "3.8.5"
  }
 },
 "nbformat": 4,
 "nbformat_minor": 4
}
