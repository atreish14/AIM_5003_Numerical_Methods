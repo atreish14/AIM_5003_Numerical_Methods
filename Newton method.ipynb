{
 "cells": [
  {
   "cell_type": "code",
   "execution_count": 2,
   "metadata": {},
   "outputs": [],
   "source": [
    "import numpy as np\n",
    "import math\n",
    "import matplotlib.pyplot as plt"
   ]
  },
  {
   "cell_type": "code",
   "execution_count": 3,
   "metadata": {},
   "outputs": [],
   "source": [
    "def newton(f,Df,x0,TOL,N):\n",
    "    '''Approximate solution of f(x)=0 by Newton's method.\n",
    "    Input\n",
    "    ----------\n",
    "    f : function\n",
    "    Df : derivative of f(x).\n",
    "    x0 :initial guess  \n",
    "    TOL1: stopping criteria \n",
    "    N:  number of iterations \n",
    "    '''\n",
    "    xn = x0\n",
    "    for n in range(0,N):\n",
    "        fxn = f(xn)\n",
    "        Dfxn = Df(xn)\n",
    "        if Dfxn == 0:\n",
    "            print('Zero derivative. No solution found.')\n",
    "            return None\n",
    "        xn = xn - fxn/Dfxn\n",
    "        if abs(fxn/Dfxn) < TOL:\n",
    "            print('Approximate solution', xn, 'after steps',n)\n",
    "            return xn\n",
    "    print('Exceeded maximum iterations. No solution found.')\n",
    "    return None"
   ]
  },
  {
   "cell_type": "code",
   "execution_count": 2,
   "metadata": {},
   "outputs": [],
   "source": [
    "def f(x):\n",
    "    return  x**3+x-1"
   ]
  },
  {
   "cell_type": "code",
   "execution_count": 3,
   "metadata": {},
   "outputs": [],
   "source": [
    "def Df(x):\n",
    "    return  3*x**2+1"
   ]
  },
  {
   "cell_type": "code",
   "execution_count": 4,
   "metadata": {},
   "outputs": [
    {
     "name": "stdout",
     "output_type": "stream",
     "text": [
      "Approximate solution 0.6823278039465127 after steps 3\n"
     ]
    },
    {
     "data": {
      "text/plain": [
       "0.6823278039465127"
      ]
     },
     "execution_count": 4,
     "metadata": {},
     "output_type": "execute_result"
    }
   ],
   "source": [
    "newton(f,Df,1,0.5e-4,100)"
   ]
  },
  {
   "cell_type": "code",
   "execution_count": 46,
   "metadata": {},
   "outputs": [],
   "source": [
    "f1 = lambda x : -0.1*x**3+x**2+0.001\n",
    "Df1= lambda x : -0.3*x**2+2*x"
   ]
  },
  {
   "cell_type": "code",
   "execution_count": 47,
   "metadata": {},
   "outputs": [
    {
     "name": "stdout",
     "output_type": "stream",
     "text": [
      "Zero derivative. No solution found.\n"
     ]
    }
   ],
   "source": [
    "newton(f1,Df1,0,0.5e-4,100)"
   ]
  },
  {
   "cell_type": "code",
   "execution_count": 48,
   "metadata": {},
   "outputs": [
    {
     "data": {
      "image/png": "[encoded data removed]",
      "text/plain": [
       "<Figure size 432x288 with 1 Axes>"
      ]
     },
     "metadata": {},
     "output_type": "display_data"
    }
   ],
   "source": [
    "plt.style.use('seaborn-whitegrid')\n",
    "ax = plt.axes()\n",
    "# 100 linearly spaced numbers\n",
    "x = np.linspace(-15,15,100)\n",
    "\n",
    "# the function, which is y = x^2 here\n",
    "y = f1(x)\n",
    "\n",
    "# plot the function\n",
    "plt.plot(x,y, 'b')\n",
    "\n",
    "# show the plot\n",
    "plt.show()"
   ]
  },
  {
   "cell_type": "code",
   "execution_count": 49,
   "metadata": {},
   "outputs": [],
   "source": [
    "f2=lambda x:  math.sin(x) + x**2*math.cos(x) - x**2 - x\n",
    "Df2= lambda x: math.cos(x) + 2*x*math.cos(x) -  x**2*math.sin(x)- 2*x - 1"
   ]
  },
  {
   "cell_type": "code",
   "execution_count": 50,
   "metadata": {},
   "outputs": [
    {
     "name": "stdout",
     "output_type": "stream",
     "text": [
      "Approximate solution 1.2280238695426968e-06 after steps 35\n"
     ]
    },
    {
     "data": {
      "text/plain": [
       "1.2280238695426968e-06"
      ]
     },
     "execution_count": 50,
     "metadata": {},
     "output_type": "execute_result"
    }
   ],
   "source": [
    "newton(f2,Df2,1,0.5e-6,100)"
   ]
  },
  {
   "cell_type": "code",
   "execution_count": 5,
   "metadata": {},
   "outputs": [],
   "source": [
    "f3= lambda x:   x**3-2*x**2+(4/3)*x-8/27\n",
    "Df3= lambda x:  3*x**2-4*x+4/3"
   ]
  },
  {
   "cell_type": "code",
   "execution_count": 6,
   "metadata": {},
   "outputs": [
    {
     "name": "stdout",
     "output_type": "stream",
     "text": [
      "Approximate solution 0.6666692648023278 after steps 29\n"
     ]
    },
    {
     "data": {
      "text/plain": [
       "0.6666692648023278"
      ]
     },
     "execution_count": 6,
     "metadata": {},
     "output_type": "execute_result"
    }
   ],
   "source": [
    "newton(f3,Df3,1,0.5e-16,100)"
   ]
  },
  {
   "cell_type": "code",
   "execution_count": 11,
   "metadata": {},
   "outputs": [
    {
     "data": {
      "image/png": "[encoded data removed]",
      "text/plain": [
       "<Figure size 432x288 with 1 Axes>"
      ]
     },
     "metadata": {},
     "output_type": "display_data"
    }
   ],
   "source": [
    "plt.style.use('seaborn-whitegrid')\n",
    "ax = plt.axes()\n",
    "x = np.linspace(-1,1,100)\n",
    "y = f3(x)\n",
    "plt.plot(x,y,'b')\n",
    "plt.show()"
   ]
  },
  {
   "cell_type": "markdown",
   "metadata": {},
   "source": [
    "# Question, pg 23 M2"
   ]
  },
  {
   "cell_type": "code",
   "execution_count": 14,
   "metadata": {},
   "outputs": [],
   "source": [
    "f4= lambda x:   -0.1*x**3 + x**2 +.01\n",
    "Df4= lambda x:  -0.3*x**2 + 2*x"
   ]
  },
  {
   "cell_type": "code",
   "execution_count": 62,
   "metadata": {},
   "outputs": [
    {
     "name": "stdout",
     "output_type": "stream",
     "text": [
      "Zero derivative. No solution found.\n"
     ]
    }
   ],
   "source": [
    "#Initial guess x0 =0\n",
    "newton(f4,Df4,0,0.5e-10,750)"
   ]
  },
  {
   "cell_type": "code",
   "execution_count": 63,
   "metadata": {},
   "outputs": [
    {
     "data": {
      "text/plain": [
       "0.01"
      ]
     },
     "execution_count": 63,
     "metadata": {},
     "output_type": "execute_result"
    }
   ],
   "source": [
    "#Exact Solution of f4(0)\n",
    "-0.1*0**3 + 0**2 +.01"
   ]
  },
  {
   "cell_type": "code",
   "execution_count": 55,
   "metadata": {},
   "outputs": [
    {
     "name": "stdout",
     "output_type": "stream",
     "text": [
      "Approximate solution 10.00099980006997 after steps 128\n"
     ]
    },
    {
     "data": {
      "text/plain": [
       "10.00099980006997"
      ]
     },
     "execution_count": 55,
     "metadata": {},
     "output_type": "execute_result"
    }
   ],
   "source": [
    "#Initial guess x0 =1\n",
    "newton(f4,Df4,1,0.5e-10,750)"
   ]
  },
  {
   "cell_type": "code",
   "execution_count": 26,
   "metadata": {},
   "outputs": [
    {
     "name": "stdout",
     "output_type": "stream",
     "text": [
      "Approximate solution 10.00099980006997 after steps 713\n"
     ]
    },
    {
     "data": {
      "text/plain": [
       "10.00099980006997"
      ]
     },
     "execution_count": 26,
     "metadata": {},
     "output_type": "execute_result"
    }
   ],
   "source": [
    "#Initial guess x0=5\n",
    "newton(f4, Df4,5, 0.5e-10, 750)"
   ]
  },
  {
   "cell_type": "code",
   "execution_count": 37,
   "metadata": {},
   "outputs": [
    {
     "name": "stdout",
     "output_type": "stream",
     "text": [
      "Approximate solution 10.00099980006997 after steps 542\n"
     ]
    },
    {
     "data": {
      "text/plain": [
       "10.00099980006997"
      ]
     },
     "execution_count": 37,
     "metadata": {},
     "output_type": "execute_result"
    }
   ],
   "source": [
    "#Initial guess x0=6.6\n",
    "newton(f4, Df4,6.6, 0.5e-10, 750)"
   ]
  },
  {
   "cell_type": "code",
   "execution_count": 54,
   "metadata": {},
   "outputs": [
    {
     "name": "stdout",
     "output_type": "stream",
     "text": [
      "Approximate solution 10.00099980006997 after steps 2\n"
     ]
    },
    {
     "data": {
      "text/plain": [
       "10.00099980006997"
      ]
     },
     "execution_count": 54,
     "metadata": {},
     "output_type": "execute_result"
    }
   ],
   "source": [
    "#Initial guess x0=10\n",
    "newton(f4, Df4,10, 0.5e-10, 750)"
   ]
  },
  {
   "cell_type": "code",
   "execution_count": 57,
   "metadata": {},
   "outputs": [
    {
     "data": {
      "text/plain": [
       "0.01"
      ]
     },
     "execution_count": 57,
     "metadata": {},
     "output_type": "execute_result"
    }
   ],
   "source": [
    "#Exact Solution of f4(10)\n",
    "-0.1*10**3 + 10**2 +.01"
   ]
  },
  {
   "cell_type": "code",
   "execution_count": 53,
   "metadata": {},
   "outputs": [
    {
     "data": {
      "image/png": "[encoded data removed]",
      "text/plain": [
       "<Figure size 1080x576 with 1 Axes>"
      ]
     },
     "metadata": {},
     "output_type": "display_data"
    }
   ],
   "source": [
    "plt.style.use('seaborn-whitegrid')\n",
    "plt.figure(figsize=(15,8)) #changed dimensions\n",
    "ax = plt.axes()\n",
    "plt.scatter(0,0) #first root\n",
    "plt.scatter(10,0) #second root\n",
    "x = np.linspace(-5,11,100) #scaled appropriately\n",
    "y = f4(x) #using approproate function\n",
    "plt.plot(x,y,color='b') #blue\n",
    "plt.show()"
   ]
  },
  {
   "cell_type": "code",
   "execution_count": null,
   "metadata": {},
   "outputs": [],
   "source": []
  },
  {
   "cell_type": "code",
   "execution_count": null,
   "metadata": {},
   "outputs": [],
   "source": []
  }
 ],
 "metadata": {
  "kernelspec": {
   "display_name": "Python 3",
   "language": "python",
   "name": "python3"
  },
  "language_info": {
   "codemirror_mode": {
    "name": "ipython",
    "version": 3
   },
   "file_extension": ".py",
   "mimetype": "text/x-python",
   "name": "python",
   "nbconvert_exporter": "python",
   "pygments_lexer": "ipython3",
   "version": "3.7.4"
  }
 },
 "nbformat": 4,
 "nbformat_minor": 4
}
