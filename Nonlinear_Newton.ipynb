{
 "cells": [
  {
   "cell_type": "code",
   "execution_count": 133,
   "metadata": {},
   "outputs": [],
   "source": [
    "import numpy as np"
   ]
  },
  {
   "cell_type": "code",
   "execution_count": 1,
   "metadata": {},
   "outputs": [],
   "source": [
    "# Solve nonlinear system F=0 by Newton's method.\n",
    "# Input: function F and Jacobian DF both must be functions of x, initial guess x0, maximal number of steps N, error eps \n",
    "# Output: solution x and number of steps\n",
    "#\n",
    "# At input, x holds the guess x0 \n",
    "# The iteration continues until ||F|| < eps or up to N steps\n",
    "def Newton_system(F, DF, x0, N, eps):\n",
    "    x=x0\n",
    "    F_value = F(x)\n",
    "    F_norm = np.linalg.norm(F_value, ord=2)  # l2 norm of vector\n",
    "    steps = 0\n",
    "    while abs(F_norm) > eps and steps < N:\n",
    "        s = np.linalg.solve(DF(x), F_value)\n",
    "        x = x - s\n",
    "        F_value = F(x)\n",
    "        F_norm = np.linalg.norm(F_value, ord=2)\n",
    "        steps = steps + 1\n",
    "    # Either a solution is found, or too many iterations\n",
    "    if abs(F_norm) > eps:\n",
    "        steps = -1\n",
    "    return x, steps"
   ]
  },
  {
   "cell_type": "code",
   "execution_count": 2,
   "metadata": {},
   "outputs": [],
   "source": [
    "def test_Newton_system1():\n",
    "    from numpy import cos, sin, pi, exp\n",
    "\n",
    "    def F(x):\n",
    "        return np.array(\n",
    "            [x[0]**2 - x[1] + x[0]*np.cos(pi*x[0]),\n",
    "             x[0]*x[1] + np.exp(-x[1]) - x[0]**(-1)])\n",
    "\n",
    "    def DF(x):\n",
    "        return np.array(\n",
    "            [[2*x[0] + np.cos(pi*x[0]) - np.pi*x[0]*np.sin(np.pi*x[0]), -1],\n",
    "             [x[1] + x[0]**(-2), x[0] - np.exp(-x[1])]])\n",
    "\n",
    "    expected = np.array([1.0, 0.0])\n",
    "    tol = 1e-4\n",
    "    x, n = Newton_system(F, DF, x0=np.array([1.5, 0.5]), N=100, eps=0.0001)\n",
    "    print ('Number of steps=', n, 'Solution=',x)\n",
    "    error_norm = np.linalg.norm(expected - x, ord=2)\n",
    "    assert error_norm < tol, 'norm of error =%g' % error_norm\n",
    "    print ('norm of error =%g' % error_norm)"
   ]
  },
  {
   "cell_type": "code",
   "execution_count": 136,
   "metadata": {},
   "outputs": [
    {
     "name": "stdout",
     "output_type": "stream",
     "text": [
      "Number of steps= 5 Solution= [ 1.00000219e+00 -1.47790274e-06]\n",
      "norm of error =2.6386e-06\n"
     ]
    }
   ],
   "source": [
    "test_Newton_system1()"
   ]
  },
  {
   "cell_type": "code",
   "execution_count": null,
   "metadata": {},
   "outputs": [],
   "source": []
  },
  {
   "cell_type": "code",
   "execution_count": null,
   "metadata": {},
   "outputs": [],
   "source": []
  },
  {
   "cell_type": "code",
   "execution_count": null,
   "metadata": {},
   "outputs": [],
   "source": []
  }
 ],
 "metadata": {
  "kernelspec": {
   "display_name": "Python 3",
   "language": "python",
   "name": "python3"
  },
  "language_info": {
   "codemirror_mode": {
    "name": "ipython",
    "version": 3
   },
   "file_extension": ".py",
   "mimetype": "text/x-python",
   "name": "python",
   "nbconvert_exporter": "python",
   "pygments_lexer": "ipython3",
   "version": "3.8.5"
  }
 },
 "nbformat": 4,
 "nbformat_minor": 4
}
